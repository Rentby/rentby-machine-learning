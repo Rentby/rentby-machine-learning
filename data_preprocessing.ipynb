{
 "cells": [
  {
   "cell_type": "markdown",
   "metadata": {},
   "source": [
    "### Import Pandas and Glob library"
   ]
  },
  {
   "cell_type": "code",
   "execution_count": 59,
   "metadata": {},
   "outputs": [],
   "source": [
    "import pandas as pd\n",
    "import glob"
   ]
  },
  {
   "cell_type": "markdown",
   "metadata": {},
   "source": [
    "### Locate files directory"
   ]
  },
  {
   "cell_type": "code",
   "execution_count": 60,
   "metadata": {},
   "outputs": [],
   "source": [
    "path = 'combined/hiking/' \n",
    "# path = 'combined/cosplay/' \n",
    "all_files = glob.glob(path + \"/*.csv\")"
   ]
  },
  {
   "cell_type": "code",
   "execution_count": 61,
   "metadata": {},
   "outputs": [],
   "source": [
    "# read all files in the folder\n",
    "df = pd.read_csv(all_files[0])"
   ]
  },
  {
   "cell_type": "code",
   "execution_count": 44,
   "metadata": {},
   "outputs": [],
   "source": [
    "# concatenate all files into one dataframe\n",
    "for file in all_files[1:]:\n",
    "    temp_df = pd.read_csv(file, header=0)\n",
    "    df = pd.concat([df, temp_df], ignore_index=True)\n"
   ]
  },
  {
   "cell_type": "code",
   "execution_count": 62,
   "metadata": {},
   "outputs": [
    {
     "name": "stderr",
     "output_type": "stream",
     "text": [
      "C:\\Users\\LEN0V0\\AppData\\Local\\Temp\\ipykernel_11224\\49572217.py:3: FutureWarning: The default value of regex will change from True to False in a future version. In addition, single character regular expressions will *not* be treated as literal strings when regex=True.\n",
      "  df['rent_price'] = df['rent_price'].str.replace('Rp', '').str.replace('.', '')\n"
     ]
    }
   ],
   "source": [
    "# divide the real price by 10 as rent price\n",
    "\n",
    "df['rent_price'] = df['rent_price'].str.replace('Rp', '').str.replace('.', '')\n",
    "df['rent_price'] = pd.to_numeric(df['rent_price'], errors='coerce')\n",
    "\n",
    "# Membagi nilai di kolom rent_price dengan 10\n",
    "df['rent_price'] = df['rent_price'] / 10"
   ]
  },
  {
   "cell_type": "code",
   "execution_count": 46,
   "metadata": {},
   "outputs": [
    {
     "name": "stdout",
     "output_type": "stream",
     "text": [
      "                                        product_name  rent_price  \\\n",
      "0  TaffLED Headlamp Flashlight Waterproof LED 3 M...      2500.0   \n",
      "1  TaffLED High Power Headlamp LED Cree XML T6 + ...      6000.0   \n",
      "2  Senter Kepala LED Headlamp Anti Air Bisa 4 Mod...      5500.0   \n",
      "3  Surya Lampu Senter Kepala LED SYH L155C Rechar...      3060.0   \n",
      "4   Senter Lampu Kepala LED Headlamp Battery Lithium      2090.0   \n",
      "\n",
      "                                           url_photo  \\\n",
      "0  https://images.tokopedia.net/img/cache/200-squ...   \n",
      "1  https://images.tokopedia.net/img/cache/200-squ...   \n",
      "2  https://images.tokopedia.net/img/cache/200-squ...   \n",
      "3  https://images.tokopedia.net/img/cache/200-squ...   \n",
      "4  https://images.tokopedia.net/img/cache/200-squ...   \n",
      "\n",
      "                                                link  \\\n",
      "0  https://ta.tokopedia.com/promo/v1/clicks/8a-xg...   \n",
      "1  https://ta.tokopedia.com/promo/v1/clicks/8a-xg...   \n",
      "2  https://ta.tokopedia.com/promo/v1/clicks/8a-xg...   \n",
      "3  https://ta.tokopedia.com/promo/v1/clicks/8a-xg...   \n",
      "4  https://ta.tokopedia.com/promo/v1/clicks/8a-xg...   \n",
      "\n",
      "                         renters  \\\n",
      "0               Pelanet Celluler   \n",
      "1               Pelanet Celluler   \n",
      "2               Pelanet Celluler   \n",
      "3  Surya Lighting Official store   \n",
      "4                        TriMeow   \n",
      "\n",
      "                                         description  \n",
      "0  Informasi Produk TaffLED Headlamp Flashlight W...  \n",
      "1  Headlamp dengan strap flexible yang muat berba...  \n",
      "2  Senter kepala ini hadir dengan strap fleksibel...  \n",
      "3  Surya SYH L155C Senter Kepala LED / Headlamp R...  \n",
      "4  Selamat datang di Trimeow Tempat berbagai maca...  \n"
     ]
    }
   ],
   "source": [
    "print(df.head())"
   ]
  },
  {
   "cell_type": "code",
   "execution_count": 47,
   "metadata": {},
   "outputs": [
    {
     "name": "stdout",
     "output_type": "stream",
     "text": [
      "<class 'pandas.core.frame.DataFrame'>\n",
      "RangeIndex: 9928 entries, 0 to 9927\n",
      "Data columns (total 6 columns):\n",
      " #   Column        Non-Null Count  Dtype  \n",
      "---  ------        --------------  -----  \n",
      " 0   product_name  9928 non-null   object \n",
      " 1   rent_price    9928 non-null   float64\n",
      " 2   url_photo     9928 non-null   object \n",
      " 3   link          9928 non-null   object \n",
      " 4   renters       3174 non-null   object \n",
      " 5   description   3174 non-null   object \n",
      "dtypes: float64(1), object(5)\n",
      "memory usage: 465.5+ KB\n",
      "None\n"
     ]
    }
   ],
   "source": [
    "print(df.info())"
   ]
  },
  {
   "cell_type": "code",
   "execution_count": 48,
   "metadata": {},
   "outputs": [
    {
     "name": "stdout",
     "output_type": "stream",
     "text": [
      "         rent_price\n",
      "count  9.928000e+03\n",
      "mean   4.804761e+04\n",
      "std    1.559523e+05\n",
      "min    3.000000e+01\n",
      "25%    5.500000e+03\n",
      "50%    1.384770e+04\n",
      "75%    3.500000e+04\n",
      "max    6.010000e+06\n"
     ]
    }
   ],
   "source": [
    "print(df.describe())"
   ]
  },
  {
   "cell_type": "markdown",
   "metadata": {},
   "source": [
    "### Drop Null value and duplicates"
   ]
  },
  {
   "cell_type": "code",
   "execution_count": 63,
   "metadata": {},
   "outputs": [],
   "source": [
    "df.dropna(inplace=True)\n",
    "df.drop_duplicates(inplace=True)"
   ]
  },
  {
   "cell_type": "markdown",
   "metadata": {},
   "source": [
    "### Saved combined dataset of hiking and cosplay"
   ]
  },
  {
   "cell_type": "code",
   "execution_count": 64,
   "metadata": {},
   "outputs": [],
   "source": [
    "# df.to_csv('hiking_dataset.csv', index=False)\n",
    "df.to_csv('cosplay_dataset.csv', index=False)"
   ]
  },
  {
   "cell_type": "markdown",
   "metadata": {},
   "source": [
    "### Read the files in the data directory"
   ]
  },
  {
   "cell_type": "code",
   "execution_count": 65,
   "metadata": {},
   "outputs": [],
   "source": [
    "cosplay_df = pd.read_csv('data/cosplay_dataset.csv')\n",
    "hiking_df = pd.read_csv('data/hiking_dataset.csv')"
   ]
  },
  {
   "cell_type": "markdown",
   "metadata": {},
   "source": [
    "### Labeling data"
   ]
  },
  {
   "cell_type": "code",
   "execution_count": 56,
   "metadata": {},
   "outputs": [],
   "source": [
    "cosplay_df['hiking'] = 0\n",
    "cosplay_df['cosplay'] = 1\n",
    "\n",
    "hiking_df['hiking'] = 1\n",
    "hiking_df['cosplay'] = 0"
   ]
  },
  {
   "cell_type": "markdown",
   "metadata": {},
   "source": [
    "### Combined data into one csv file"
   ]
  },
  {
   "cell_type": "code",
   "execution_count": 57,
   "metadata": {},
   "outputs": [],
   "source": [
    "combined_df = pd.concat([cosplay_df, hiking_df], ignore_index=True)"
   ]
  },
  {
   "cell_type": "markdown",
   "metadata": {},
   "source": [
    "### Save the dataset"
   ]
  },
  {
   "cell_type": "code",
   "execution_count": 68,
   "metadata": {},
   "outputs": [],
   "source": [
    "combined_df.to_csv('cleaned_dataset.csv', index=False)\n"
   ]
  },
  {
   "cell_type": "code",
   "execution_count": null,
   "metadata": {},
   "outputs": [],
   "source": []
  }
 ],
 "metadata": {
  "kernelspec": {
   "display_name": "Python 3",
   "language": "python",
   "name": "python3"
  },
  "language_info": {
   "codemirror_mode": {
    "name": "ipython",
    "version": 3
   },
   "file_extension": ".py",
   "mimetype": "text/x-python",
   "name": "python",
   "nbconvert_exporter": "python",
   "pygments_lexer": "ipython3",
   "version": "3.8.0"
  }
 },
 "nbformat": 4,
 "nbformat_minor": 2
}
