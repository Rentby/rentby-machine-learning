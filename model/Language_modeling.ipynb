{
 "cells": [
  {
   "cell_type": "markdown",
   "metadata": {},
   "source": [
    "### Import Libraries"
   ]
  },
  {
   "cell_type": "code",
   "execution_count": 1,
   "metadata": {},
   "outputs": [],
   "source": [
    "import pandas as pd\n",
    "import numpy as np\n",
    "import matplotlib.pyplot as plt\n",
    "from sklearn.model_selection import train_test_split\n",
    "from sklearn.preprocessing import LabelEncoder\n",
    "import tensorflow as tf\n",
    "from sklearn.metrics.pairwise import cosine_similarity\n",
    "from tensorflow.keras.preprocessing.text import Tokenizer\n",
    "from tensorflow.keras.preprocessing.sequence import pad_sequences\n",
    "from tensorflow.keras.models import Sequential\n",
    "from tensorflow.keras.utils import to_categorical \n",
    "from tensorflow.keras.layers import Embedding, LSTM, Dense, Bidirectional\n",
    "from keras.optimizers import Adam"
   ]
  },
  {
   "cell_type": "markdown",
   "metadata": {},
   "source": [
    "### Dataset information\n",
    "* Product Name\n",
    "* Rent Price\n",
    "* Product Photo\n",
    "* Renters\n",
    "* Description"
   ]
  },
  {
   "cell_type": "code",
   "execution_count": 2,
   "metadata": {},
   "outputs": [
    {
     "data": {
      "text/html": [
       "<div>\n",
       "<style scoped>\n",
       "    .dataframe tbody tr th:only-of-type {\n",
       "        vertical-align: middle;\n",
       "    }\n",
       "\n",
       "    .dataframe tbody tr th {\n",
       "        vertical-align: top;\n",
       "    }\n",
       "\n",
       "    .dataframe thead th {\n",
       "        text-align: right;\n",
       "    }\n",
       "</style>\n",
       "<table border=\"1\" class=\"dataframe\">\n",
       "  <thead>\n",
       "    <tr style=\"text-align: right;\">\n",
       "      <th></th>\n",
       "      <th>id</th>\n",
       "      <th>product_name</th>\n",
       "      <th>rent_price</th>\n",
       "      <th>url_photo</th>\n",
       "      <th>link</th>\n",
       "      <th>renters</th>\n",
       "      <th>description</th>\n",
       "      <th>cosplay</th>\n",
       "      <th>hiking</th>\n",
       "      <th>product_id</th>\n",
       "      <th>rating</th>\n",
       "    </tr>\n",
       "  </thead>\n",
       "  <tbody>\n",
       "    <tr>\n",
       "      <th>0</th>\n",
       "      <td>0</td>\n",
       "      <td>Celana Tactical Original Big Size Cargo Pria H...</td>\n",
       "      <td>16900</td>\n",
       "      <td>https://images.tokopedia.net/img/cache/500-squ...</td>\n",
       "      <td>https://ta.tokopedia.com/promo/v1/clicks/8a-xg...</td>\n",
       "      <td>Injection Project</td>\n",
       "      <td>Celana Tactical Original Big Size Cargo Pria H...</td>\n",
       "      <td>0</td>\n",
       "      <td>1</td>\n",
       "      <td>091def81-8550-44c2-8a6c-9aa32722ec77</td>\n",
       "      <td>4.8</td>\n",
       "    </tr>\n",
       "    <tr>\n",
       "      <th>1</th>\n",
       "      <td>1</td>\n",
       "      <td>Celana Cargo Tactical Panjang Pria HPR Jumbo B...</td>\n",
       "      <td>16500</td>\n",
       "      <td>https://images.tokopedia.net/img/cache/500-squ...</td>\n",
       "      <td>https://ta.tokopedia.com/promo/v1/clicks/8a-xg...</td>\n",
       "      <td>Injection Project</td>\n",
       "      <td>Keunggulan Produk Kami : - Eksklusif, - Tampil...</td>\n",
       "      <td>0</td>\n",
       "      <td>1</td>\n",
       "      <td>5d29477f-ea1c-41f1-960f-1f64d8531adb</td>\n",
       "      <td>4.6</td>\n",
       "    </tr>\n",
       "    <tr>\n",
       "      <th>2</th>\n",
       "      <td>2</td>\n",
       "      <td>Celana PDL Tactical Ripstop Original Termurah ...</td>\n",
       "      <td>7600</td>\n",
       "      <td>https://images.tokopedia.net/img/cache/500-squ...</td>\n",
       "      <td>https://ta.tokopedia.com/promo/v1/clicks/8a-xg...</td>\n",
       "      <td>Java Seven Store</td>\n",
       "      <td>* 1kg bisa 3pcs * Celana PDL Tactical Original...</td>\n",
       "      <td>0</td>\n",
       "      <td>1</td>\n",
       "      <td>638b1099-85dd-401c-8ded-08a4d54fdfe0</td>\n",
       "      <td>4.8</td>\n",
       "    </tr>\n",
       "    <tr>\n",
       "      <th>3</th>\n",
       "      <td>3</td>\n",
       "      <td>CELANA PRIA TACTICAL CARGO PANJANG - Cream, 28</td>\n",
       "      <td>6000</td>\n",
       "      <td>https://images.tokopedia.net/img/cache/500-squ...</td>\n",
       "      <td>https://ta.tokopedia.com/promo/v1/clicks/8a-xg...</td>\n",
       "      <td>mytactical_1</td>\n",
       "      <td>BIG PROMO!!! PENTING!!! √ Jangan ragukan kuali...</td>\n",
       "      <td>0</td>\n",
       "      <td>1</td>\n",
       "      <td>521496ac-296f-4a9a-be41-1c43ef1488c3</td>\n",
       "      <td>4.0</td>\n",
       "    </tr>\n",
       "    <tr>\n",
       "      <th>4</th>\n",
       "      <td>4</td>\n",
       "      <td>Celana Tactical M-Tac Model Terbaru/Cargo/Pria...</td>\n",
       "      <td>10000</td>\n",
       "      <td>https://images.tokopedia.net/img/cache/500-squ...</td>\n",
       "      <td>https://ta.tokopedia.com/promo/v1/clicks/8a-xg...</td>\n",
       "      <td>naondstore</td>\n",
       "      <td>Assalamu'alaikum Wr. Wb.       Selamat Datang ...</td>\n",
       "      <td>0</td>\n",
       "      <td>1</td>\n",
       "      <td>9e3939fb-0ccc-47c9-b0ab-6bf2777772aa</td>\n",
       "      <td>4.2</td>\n",
       "    </tr>\n",
       "  </tbody>\n",
       "</table>\n",
       "</div>"
      ],
      "text/plain": [
       "   id                                       product_name  rent_price  \\\n",
       "0   0  Celana Tactical Original Big Size Cargo Pria H...       16900   \n",
       "1   1  Celana Cargo Tactical Panjang Pria HPR Jumbo B...       16500   \n",
       "2   2  Celana PDL Tactical Ripstop Original Termurah ...        7600   \n",
       "3   3     CELANA PRIA TACTICAL CARGO PANJANG - Cream, 28        6000   \n",
       "4   4  Celana Tactical M-Tac Model Terbaru/Cargo/Pria...       10000   \n",
       "\n",
       "                                           url_photo  \\\n",
       "0  https://images.tokopedia.net/img/cache/500-squ...   \n",
       "1  https://images.tokopedia.net/img/cache/500-squ...   \n",
       "2  https://images.tokopedia.net/img/cache/500-squ...   \n",
       "3  https://images.tokopedia.net/img/cache/500-squ...   \n",
       "4  https://images.tokopedia.net/img/cache/500-squ...   \n",
       "\n",
       "                                                link            renters  \\\n",
       "0  https://ta.tokopedia.com/promo/v1/clicks/8a-xg...  Injection Project   \n",
       "1  https://ta.tokopedia.com/promo/v1/clicks/8a-xg...  Injection Project   \n",
       "2  https://ta.tokopedia.com/promo/v1/clicks/8a-xg...   Java Seven Store   \n",
       "3  https://ta.tokopedia.com/promo/v1/clicks/8a-xg...       mytactical_1   \n",
       "4  https://ta.tokopedia.com/promo/v1/clicks/8a-xg...         naondstore   \n",
       "\n",
       "                                         description  cosplay  hiking  \\\n",
       "0  Celana Tactical Original Big Size Cargo Pria H...        0       1   \n",
       "1  Keunggulan Produk Kami : - Eksklusif, - Tampil...        0       1   \n",
       "2  * 1kg bisa 3pcs * Celana PDL Tactical Original...        0       1   \n",
       "3  BIG PROMO!!! PENTING!!! √ Jangan ragukan kuali...        0       1   \n",
       "4  Assalamu'alaikum Wr. Wb.       Selamat Datang ...        0       1   \n",
       "\n",
       "                             product_id  rating  \n",
       "0  091def81-8550-44c2-8a6c-9aa32722ec77     4.8  \n",
       "1  5d29477f-ea1c-41f1-960f-1f64d8531adb     4.6  \n",
       "2  638b1099-85dd-401c-8ded-08a4d54fdfe0     4.8  \n",
       "3  521496ac-296f-4a9a-be41-1c43ef1488c3     4.0  \n",
       "4  9e3939fb-0ccc-47c9-b0ab-6bf2777772aa     4.2  "
      ]
     },
     "execution_count": 2,
     "metadata": {},
     "output_type": "execute_result"
    }
   ],
   "source": [
    "dataset = pd.read_csv('../data/rentby_dataset.csv')\n",
    "dataset.head()"
   ]
  },
  {
   "cell_type": "code",
   "execution_count": 3,
   "metadata": {},
   "outputs": [
    {
     "name": "stdout",
     "output_type": "stream",
     "text": [
      "Number of records:  9165\n",
      "Number of fields:  11\n"
     ]
    }
   ],
   "source": [
    "print(\"Number of records: \", dataset.shape[0])\n",
    "print(\"Number of fields: \", dataset.shape[1])"
   ]
  },
  {
   "cell_type": "markdown",
   "metadata": {},
   "source": [
    "### Display products names and preprocess them"
   ]
  },
  {
   "cell_type": "code",
   "execution_count": 4,
   "metadata": {},
   "outputs": [
    {
     "data": {
      "text/plain": [
       "0       Celana Tactical Original Big Size Cargo Pria H...\n",
       "1       Celana Cargo Tactical Panjang Pria HPR Jumbo B...\n",
       "2       Celana PDL Tactical Ripstop Original Termurah ...\n",
       "3          CELANA PRIA TACTICAL CARGO PANJANG - Cream, 28\n",
       "4       Celana Tactical M-Tac Model Terbaru/Cargo/Pria...\n",
       "                              ...                        \n",
       "9160    ch1 2. King Rabbit Thermal Blanket Selimut Fle...\n",
       "9161    Dunlopillo Hooded Thermal Blanket ( Selimut To...\n",
       "9162    TERMURAH KING RABBIT THERMAL BLANKET SELIMUT F...\n",
       "9163    NEW PRODUK KING RABBIT THERMAL BLANKET FLEECE ...\n",
       "9164    dunlopillo thermal & travel blanket black seli...\n",
       "Name: product_name, Length: 9165, dtype: object"
      ]
     },
     "execution_count": 4,
     "metadata": {},
     "output_type": "execute_result"
    }
   ],
   "source": [
    "dataset['product_name']"
   ]
  },
  {
   "cell_type": "markdown",
   "metadata": {},
   "source": [
    "Removing unwanted characters and words in product name"
   ]
  },
  {
   "cell_type": "code",
   "execution_count": 5,
   "metadata": {},
   "outputs": [],
   "source": [
    "dataset['product_name'] = dataset['product_name'].apply(lambda x: x.replace(u'\\xa0',u' '))\n",
    "dataset['product_name'] = dataset['product_name'].apply(lambda x: x.replace('\\u200a',' '))\n",
    "dataset['product_name'] = dataset['product_name'].str.lower()\n",
    "corpus = dataset['product_name']"
   ]
  },
  {
   "cell_type": "markdown",
   "metadata": {},
   "source": [
    "### Callbacks"
   ]
  },
  {
   "cell_type": "code",
   "execution_count": 6,
   "metadata": {},
   "outputs": [],
   "source": [
    "class myCallback(tf.keras.callbacks.Callback):\n",
    "    def on_epoch_end(self, epoch, logs={}):\n",
    "        if(logs.get('accuracy')>0.88):\n",
    "            print(\"\\nDesired value is already achieved!\")\n",
    "            self.model.stop_training = True"
   ]
  },
  {
   "cell_type": "markdown",
   "metadata": {},
   "source": [
    "### Tokenization"
   ]
  },
  {
   "cell_type": "code",
   "execution_count": 7,
   "metadata": {},
   "outputs": [],
   "source": [
    "tokenizer = Tokenizer()\n",
    "tokenizer.fit_on_texts(dataset['product_name'])\n",
    "total_words = len (tokenizer.word_index)+1\n",
    "\n",
    "# n_gram sequence\n",
    "def n_gram_seqs(corpus, tokenizer):\n",
    "\n",
    "    input_sequences = []\n",
    "\n",
    "    for line in corpus:\n",
    "      token_list = tokenizer.texts_to_sequences([line])[0]\n",
    "      for i in range(1,len(token_list)):\n",
    "        n_gram_sequences = token_list[:i+1]\n",
    "        input_sequences.append(n_gram_sequences)\n",
    "    \n",
    "    return input_sequences\n",
    "\n",
    "input_sequences = n_gram_seqs(corpus, tokenizer)\n",
    "max_sequence_len = max([len(x) for x in input_sequences])\n"
   ]
  },
  {
   "cell_type": "markdown",
   "metadata": {},
   "source": [
    "### Padding"
   ]
  },
  {
   "cell_type": "code",
   "execution_count": 8,
   "metadata": {},
   "outputs": [
    {
     "name": "stdout",
     "output_type": "stream",
     "text": [
      "padded corpus has shape: (78516, 39)\n"
     ]
    }
   ],
   "source": [
    "# function padded\n",
    "def pad_seqs(input_sequences, maxlen):\n",
    "    padded_sequences = pad_sequences(input_sequences, maxlen = maxlen)\n",
    "    return padded_sequences\n",
    "\n",
    "input_sequences = pad_seqs(input_sequences, max_sequence_len)\n",
    "print(f\"padded corpus has shape: {input_sequences.shape}\")"
   ]
  },
  {
   "cell_type": "code",
   "execution_count": 9,
   "metadata": {},
   "outputs": [],
   "source": [
    "# feature and label\n",
    "def features_and_labels(input_sequences, total_words):\n",
    "    features = input_sequences[:,:-1]\n",
    "    labels = input_sequences[:,-1]\n",
    "    one_hot_labels = to_categorical(labels,num_classes = total_words)\n",
    "    return features, one_hot_labels"
   ]
  },
  {
   "cell_type": "code",
   "execution_count": 10,
   "metadata": {},
   "outputs": [],
   "source": [
    "features, labels = features_and_labels(input_sequences, total_words)"
   ]
  },
  {
   "cell_type": "markdown",
   "metadata": {},
   "source": [
    "### Model"
   ]
  },
  {
   "cell_type": "code",
   "execution_count": 23,
   "metadata": {},
   "outputs": [],
   "source": [
    "def create_model(total_words, max_sequence_len):\n",
    "    model = Sequential()\n",
    "    model.add(Embedding(total_words, 100, input_length=max_sequence_len-1))\n",
    "    model.add(Bidirectional(LSTM(128)))\n",
    "    model.add(Dense(total_words, activation=\"softmax\"))\n",
    "    adam = tf.keras.optimizers.Adam(learning_rate= 0.001)\n",
    "    model.compile(loss=\"categorical_crossentropy\",\n",
    "                  optimizer=adam,\n",
    "                  metrics=['accuracy'])\n",
    "    return model"
   ]
  },
  {
   "cell_type": "code",
   "execution_count": 24,
   "metadata": {},
   "outputs": [
    {
     "name": "stdout",
     "output_type": "stream",
     "text": [
      "Epoch 1/50\n",
      "2454/2454 [==============================] - 187s 74ms/step - loss: 6.7132 - accuracy: 0.0770\n",
      "Epoch 2/50\n",
      "2454/2454 [==============================] - 141s 58ms/step - loss: 5.4103 - accuracy: 0.1642\n",
      "Epoch 3/50\n",
      "2454/2454 [==============================] - 135s 55ms/step - loss: 4.7017 - accuracy: 0.2157\n",
      "Epoch 4/50\n",
      "2454/2454 [==============================] - 136s 55ms/step - loss: 4.1694 - accuracy: 0.2606\n",
      "Epoch 5/50\n",
      "2454/2454 [==============================] - 137s 56ms/step - loss: 3.7288 - accuracy: 0.2994\n",
      "Epoch 6/50\n",
      "2454/2454 [==============================] - 137s 56ms/step - loss: 3.3533 - accuracy: 0.3385\n",
      "Epoch 7/50\n",
      "2454/2454 [==============================] - 205s 83ms/step - loss: 3.0262 - accuracy: 0.3806\n",
      "Epoch 8/50\n",
      "2454/2454 [==============================] - 210s 86ms/step - loss: 2.7373 - accuracy: 0.4260\n",
      "Epoch 9/50\n",
      "2454/2454 [==============================] - 202s 82ms/step - loss: 2.4810 - accuracy: 0.4675\n",
      "Epoch 10/50\n",
      "2454/2454 [==============================] - 203s 83ms/step - loss: 2.2572 - accuracy: 0.5082\n",
      "Epoch 11/50\n",
      "2454/2454 [==============================] - 179s 73ms/step - loss: 2.0584 - accuracy: 0.5462\n",
      "Epoch 12/50\n",
      "2454/2454 [==============================] - 155s 63ms/step - loss: 1.8877 - accuracy: 0.5800\n",
      "Epoch 13/50\n",
      "2454/2454 [==============================] - 158s 64ms/step - loss: 1.7354 - accuracy: 0.6122\n",
      "Epoch 14/50\n",
      "2454/2454 [==============================] - 173s 71ms/step - loss: 1.6053 - accuracy: 0.6367\n",
      "Epoch 15/50\n",
      "2454/2454 [==============================] - 167s 68ms/step - loss: 1.4905 - accuracy: 0.6596\n",
      "Epoch 16/50\n",
      "2454/2454 [==============================] - 163s 67ms/step - loss: 1.3895 - accuracy: 0.6802\n",
      "Epoch 17/50\n",
      "2454/2454 [==============================] - 163s 66ms/step - loss: 1.3039 - accuracy: 0.7003\n",
      "Epoch 18/50\n",
      "2454/2454 [==============================] - 164s 67ms/step - loss: 1.2209 - accuracy: 0.7155\n",
      "Epoch 19/50\n",
      "2454/2454 [==============================] - 162s 66ms/step - loss: 1.1539 - accuracy: 0.7301\n",
      "Epoch 20/50\n",
      "2454/2454 [==============================] - 166s 68ms/step - loss: 1.0930 - accuracy: 0.7430\n",
      "Epoch 21/50\n",
      "2454/2454 [==============================] - 162s 66ms/step - loss: 1.0397 - accuracy: 0.7537\n",
      "Epoch 22/50\n",
      "2454/2454 [==============================] - 166s 68ms/step - loss: 0.9917 - accuracy: 0.7629\n",
      "Epoch 23/50\n",
      "2454/2454 [==============================] - 167s 68ms/step - loss: 0.9513 - accuracy: 0.7723\n",
      "Epoch 24/50\n",
      "2454/2454 [==============================] - 168s 68ms/step - loss: 0.9131 - accuracy: 0.7800\n",
      "Epoch 25/50\n",
      "2454/2454 [==============================] - 172s 70ms/step - loss: 0.8800 - accuracy: 0.7864\n",
      "Epoch 26/50\n",
      "2454/2454 [==============================] - 176s 72ms/step - loss: 0.8503 - accuracy: 0.7923\n",
      "Epoch 27/50\n",
      "2454/2454 [==============================] - 177s 72ms/step - loss: 0.8233 - accuracy: 0.7976\n",
      "Epoch 28/50\n",
      "2454/2454 [==============================] - 176s 72ms/step - loss: 0.8000 - accuracy: 0.8022\n",
      "Epoch 29/50\n",
      "2454/2454 [==============================] - 180s 73ms/step - loss: 0.7777 - accuracy: 0.8058\n",
      "Epoch 30/50\n",
      "2454/2454 [==============================] - 178s 73ms/step - loss: 0.7582 - accuracy: 0.8095\n",
      "Epoch 31/50\n",
      "2454/2454 [==============================] - 183s 75ms/step - loss: 0.7422 - accuracy: 0.8133\n",
      "Epoch 32/50\n",
      "2454/2454 [==============================] - 183s 75ms/step - loss: 0.7258 - accuracy: 0.8155\n",
      "Epoch 33/50\n",
      "2454/2454 [==============================] - 186s 76ms/step - loss: 0.7121 - accuracy: 0.8195\n",
      "Epoch 34/50\n",
      "2454/2454 [==============================] - 188s 77ms/step - loss: 0.6981 - accuracy: 0.8223\n",
      "Epoch 35/50\n",
      "2454/2454 [==============================] - 221s 90ms/step - loss: 0.6877 - accuracy: 0.8235\n",
      "Epoch 36/50\n",
      "2454/2454 [==============================] - 238s 97ms/step - loss: 0.6780 - accuracy: 0.8248\n",
      "Epoch 37/50\n",
      "2454/2454 [==============================] - 220s 89ms/step - loss: 0.6679 - accuracy: 0.8270\n",
      "Epoch 38/50\n",
      "2454/2454 [==============================] - 241s 98ms/step - loss: 0.6592 - accuracy: 0.8286\n",
      "Epoch 39/50\n",
      "2454/2454 [==============================] - 238s 97ms/step - loss: 0.6520 - accuracy: 0.8291\n",
      "Epoch 40/50\n",
      "2454/2454 [==============================] - 237s 97ms/step - loss: 0.6429 - accuracy: 0.8323\n",
      "Epoch 41/50\n",
      "2454/2454 [==============================] - 297s 121ms/step - loss: 0.6385 - accuracy: 0.8320\n",
      "Epoch 42/50\n",
      "2454/2454 [==============================] - 301s 122ms/step - loss: 0.6322 - accuracy: 0.8330\n",
      "Epoch 43/50\n",
      "2454/2454 [==============================] - 282s 115ms/step - loss: 0.6262 - accuracy: 0.8336\n",
      "Epoch 44/50\n",
      "2454/2454 [==============================] - 213s 87ms/step - loss: 0.6202 - accuracy: 0.8351\n",
      "Epoch 45/50\n",
      "2454/2454 [==============================] - 244s 99ms/step - loss: 0.6156 - accuracy: 0.8355\n",
      "Epoch 46/50\n",
      "2454/2454 [==============================] - 297s 121ms/step - loss: 0.6112 - accuracy: 0.8363\n",
      "Epoch 47/50\n",
      "2454/2454 [==============================] - 303s 124ms/step - loss: 0.6070 - accuracy: 0.8371\n",
      "Epoch 48/50\n",
      "2454/2454 [==============================] - 266s 108ms/step - loss: 0.6034 - accuracy: 0.8375\n",
      "Epoch 49/50\n",
      "2454/2454 [==============================] - 277s 113ms/step - loss: 0.5993 - accuracy: 0.8382\n",
      "Epoch 50/50\n",
      "2454/2454 [==============================] - 329s 134ms/step - loss: 0.5971 - accuracy: 0.8386\n"
     ]
    }
   ],
   "source": [
    "model = create_model(total_words, max_sequence_len)\n",
    "history = model.fit(features, labels, callbacks=myCallback(), epochs=50, verbose=1)"
   ]
  },
  {
   "cell_type": "markdown",
   "metadata": {},
   "source": [
    "### Predicting The Next Word for Search"
   ]
  },
  {
   "cell_type": "code",
   "execution_count": 31,
   "metadata": {},
   "outputs": [],
   "source": [
    "# WORD PREDICTIONS\n",
    "\n",
    "def generate_predicted_text(seed_text, model, tokenizer, max_sequence_len, num_predictions = 5, max_next_words = 2):\n",
    "    predicted_texts = set()\n",
    "    \n",
    "    while len(predicted_texts) < num_predictions:\n",
    "        current_seed = seed_text\n",
    "        generated_text = current_seed\n",
    "        \n",
    "        for _ in range(max_next_words):\n",
    "            token_list = tokenizer.texts_to_sequences([current_seed])[0]\n",
    "            token_list = pad_sequences([token_list], maxlen=max_sequence_len-1, padding='pre')\n",
    "            predicted_probs = model.predict(token_list, verbose=0)[0]\n",
    "            predicted_class = np.random.choice(len(predicted_probs), p=predicted_probs)\n",
    "            \n",
    "            output_word = \"\"\n",
    "            for word, index in tokenizer.word_index.items():\n",
    "                if index == predicted_class:\n",
    "                    output_word = word\n",
    "                    break\n",
    "            current_seed += \" \" + output_word\n",
    "            generated_text += \" \" + output_word\n",
    "\n",
    "        predicted_texts.add(generated_text)\n",
    "    \n",
    "    return list(predicted_texts)"
   ]
  },
  {
   "cell_type": "markdown",
   "metadata": {},
   "source": [
    "### Predicting Reccomendation Arrays"
   ]
  },
  {
   "cell_type": "code",
   "execution_count": 32,
   "metadata": {},
   "outputs": [
    {
     "name": "stdout",
     "output_type": "stream",
     "text": [
      "287/287 [==============================] - 12s 43ms/step\n"
     ]
    }
   ],
   "source": [
    "# CONTENT_RECOMMENDATION\n",
    "\n",
    "# embedding input\n",
    "def get_embeddings(model, tokenizer, texts, max_sequence_len):\n",
    "    sequences = tokenizer.texts_to_sequences(texts)\n",
    "    padded_sequences = pad_sequences(sequences, maxlen=max_sequence_len-1)\n",
    "    embeddings = model.predict(padded_sequences)\n",
    "    return embeddings\n",
    "\n",
    "product_embeddings = get_embeddings(model, tokenizer, dataset['product_name'], max_sequence_len)\n",
    "\n",
    "# input comparison simmilarities\n",
    "def recommend_products(user_input, model, tokenizer, product_embeddings, data, max_sequence_len):\n",
    "    input_seq = tokenizer.texts_to_sequences([user_input])\n",
    "    input_padded = pad_sequences(input_seq, maxlen=max_sequence_len-1)\n",
    "    input_embedding = model.predict(input_padded)\n",
    "\n",
    "    similarities = cosine_similarity(input_embedding, product_embeddings)\n",
    "    similar_indices = similarities.argsort()[0][::-1]\n",
    "\n",
    "    recommendations = data.iloc[similar_indices][['product_name', 'rent_price', 'url_photo', 'link']]\n",
    "    return recommendations"
   ]
  },
  {
   "cell_type": "code",
   "execution_count": 33,
   "metadata": {},
   "outputs": [
    {
     "name": "stdout",
     "output_type": "stream",
     "text": [
      "1/1 [==============================] - 0s 34ms/step\n",
      "                                           product_name  rent_price  \\\n",
      "4370  1920s flapper aksesoris gatsby costume aksesor...       73120   \n",
      "7646  kani_id kostum cosplay anime takt op. destiny ...       52602   \n",
      "5607  1set kostum halloween cosplay jubah halloween ...       21100   \n",
      "7978  promo akhir tahun topeng venom costume mask mo...        6860   \n",
      "7604  barang terlaris little red riding hood costume...       41100   \n",
      "...                                                 ...         ...   \n",
      "5264  a wetrose fuwawa abyssgard cosplay shoes costu...      144650   \n",
      "7000  ' ?wetrose? fuwawa abyssgard cosplay shoes cos...      118350   \n",
      "5265  . ?wetrose? fuwawa abyssgard cosplay shoes cos...      118350   \n",
      "5262  ?wetrose? fuwawa abyssgard cosplay shoes costu...      144600   \n",
      "7882  jubah topeng pj maskers catboydkk owlettedkk g...        9000   \n",
      "\n",
      "                                              url_photo  \\\n",
      "4370  https://images.tokopedia.net/img/cache/500-squ...   \n",
      "7646  https://images.tokopedia.net/img/cache/200-squ...   \n",
      "5607  https://images.tokopedia.net/img/cache/500-squ...   \n",
      "7978  https://images.tokopedia.net/img/cache/200-squ...   \n",
      "7604  https://images.tokopedia.net/img/cache/200-squ...   \n",
      "...                                                 ...   \n",
      "5264  https://images.tokopedia.net/img/cache/500-squ...   \n",
      "7000  https://images.tokopedia.net/img/cache/500-squ...   \n",
      "5265  https://images.tokopedia.net/img/cache/500-squ...   \n",
      "5262  https://images.tokopedia.net/img/cache/500-squ...   \n",
      "7882  https://images.tokopedia.net/img/cache/200-squ...   \n",
      "\n",
      "                                                   link  \n",
      "4370  https://www.tokopedia.com/lestrtt/1920s-flappe...  \n",
      "7646  https://www.tokopedia.com/kaniid/kani-id-kostu...  \n",
      "5607  https://www.tokopedia.com/djumitor/1set-kostum...  \n",
      "7978  https://www.tokopedia.com/quertymal/promo-akhi...  \n",
      "7604  https://www.tokopedia.com/ripaldi12/barang-ter...  \n",
      "...                                                 ...  \n",
      "5264  https://www.tokopedia.com/guttersnipe/a-wetros...  \n",
      "7000  https://www.tokopedia.com/avuncular/wetrose-fu...  \n",
      "5265  https://www.tokopedia.com/chimichanga/wetrose-...  \n",
      "5262  https://www.tokopedia.com/lollapalooza/wetrose...  \n",
      "7882  https://ta.tokopedia.com/promo/v1/clicks/8a-xg...  \n",
      "\n",
      "[9165 rows x 4 columns]\n"
     ]
    }
   ],
   "source": [
    "tulis = \"kostum\" \n",
    "recommendations = recommend_products(tulis, model, tokenizer, product_embeddings, dataset, max_sequence_len)\n",
    "print(recommendations)"
   ]
  },
  {
   "cell_type": "markdown",
   "metadata": {},
   "source": [
    "### Plotting model accuracy and loss"
   ]
  },
  {
   "cell_type": "code",
   "execution_count": 34,
   "metadata": {},
   "outputs": [
    {
     "data": {
      "image/png": "[encoded data removed]",
      "text/plain": [
       "<Figure size 1400x500 with 2 Axes>"
      ]
     },
     "metadata": {},
     "output_type": "display_data"
    }
   ],
   "source": [
    "def plot_metrics(history):\n",
    "    acc = history.history['accuracy']\n",
    "    loss = history.history['loss']\n",
    "    epochs = range(1, len(acc) + 1)\n",
    "\n",
    "    plt.figure(figsize=(14, 5))\n",
    "\n",
    "    # Plot accuracy\n",
    "    plt.subplot(1, 2, 1)\n",
    "    plt.plot(epochs, acc, 'bo-', label='Training accuracy')\n",
    "    plt.title('Training accuracy')\n",
    "    plt.xlabel('Epochs')\n",
    "    plt.ylabel('Accuracy')\n",
    "    plt.legend()\n",
    "\n",
    "    # Plot loss\n",
    "    plt.subplot(1, 2, 2)\n",
    "    plt.plot(epochs, loss, 'bo-', label='Training loss')\n",
    "    plt.title('Training loss')\n",
    "    plt.xlabel('Epochs')\n",
    "    plt.ylabel('Loss')\n",
    "    plt.legend()\n",
    "\n",
    "    plt.show()\n",
    "\n",
    "plot_metrics(history)"
   ]
  },
  {
   "cell_type": "code",
   "execution_count": 28,
   "metadata": {},
   "outputs": [],
   "source": [
    "import time\n",
    "saved_model_path = \"./{}.h5\".format(int(time.time()))\n",
    "\n",
    "model.save(saved_model_path)"
   ]
  },
  {
   "cell_type": "code",
   "execution_count": 29,
   "metadata": {},
   "outputs": [
    {
     "name": "stdout",
     "output_type": "stream",
     "text": [
      "Collecting tensorflowjs\n",
      "  Using cached tensorflowjs-4.20.0-py3-none-any.whl.metadata (3.2 kB)\n",
      "Collecting flax>=0.7.2 (from tensorflowjs)\n",
      "  Using cached flax-0.7.2-py3-none-any.whl.metadata (10.0 kB)\n",
      "Requirement already satisfied: importlib_resources>=5.9.0 in c:\\users\\len0v0\\appdata\\local\\programs\\python\\python38\\lib\\site-packages (from tensorflowjs) (6.4.0)\n",
      "Collecting jax>=0.4.13 (from tensorflowjs)\n",
      "  Using cached jax-0.4.13.tar.gz (1.3 MB)\n",
      "  Installing build dependencies: started\n",
      "  Installing build dependencies: finished with status 'done'\n",
      "  Getting requirements to build wheel: started\n",
      "  Getting requirements to build wheel: finished with status 'done'\n",
      "  Preparing metadata (pyproject.toml): started\n",
      "  Preparing metadata (pyproject.toml): finished with status 'done'\n",
      "INFO: pip is looking at multiple versions of tensorflowjs to determine which version is compatible with other requirements. This could take a while.\n",
      "Collecting tensorflowjs\n",
      "  Using cached tensorflowjs-4.19.0-py3-none-any.whl.metadata (3.2 kB)\n",
      "  Using cached tensorflowjs-4.18.0-py3-none-any.whl.metadata (3.2 kB)\n",
      "  Using cached tensorflowjs-4.17.0-py3-none-any.whl.metadata (3.2 kB)\n",
      "  Using cached tensorflowjs-4.16.0-py3-none-any.whl.metadata (3.2 kB)\n",
      "  Using cached tensorflowjs-4.15.0-py3-none-any.whl.metadata (3.2 kB)\n",
      "  Using cached tensorflowjs-4.14.0-py3-none-any.whl.metadata (3.2 kB)\n",
      "  Using cached tensorflowjs-4.13.0-py3-none-any.whl.metadata (3.2 kB)\n",
      "INFO: pip is still looking at multiple versions of tensorflowjs to determine which version is compatible with other requirements. This could take a while.\n",
      "  Using cached tensorflowjs-4.12.0-py3-none-any.whl.metadata (3.2 kB)\n",
      "  Using cached tensorflowjs-4.11.0-py3-none-any.whl.metadata (3.2 kB)\n",
      "  Using cached tensorflowjs-4.10.0-py3-none-any.whl.metadata (3.1 kB)\n",
      "Collecting flax<0.6.3,>=0.6.2 (from tensorflowjs)\n",
      "  Using cached flax-0.6.2-py3-none-any.whl.metadata (9.5 kB)\n",
      "Collecting tensorflow<3,>=2.12.0 (from tensorflowjs)\n",
      "  Using cached tensorflow-2.13.1-cp38-cp38-win_amd64.whl.metadata (2.6 kB)\n",
      "Collecting tensorflowjs\n",
      "  Using cached tensorflowjs-4.9.0-py3-none-any.whl.metadata (3.1 kB)\n",
      "  Using cached tensorflowjs-4.8.0-py3-none-any.whl.metadata (3.1 kB)\n",
      "INFO: This is taking longer than usual. You might need to provide the dependency resolver with stricter constraints to reduce runtime. See https://pip.pypa.io/warnings/backtracking for guidance. If you want to abort this run, press Ctrl + C.\n",
      "  Using cached tensorflowjs-4.7.0-py3-none-any.whl.metadata (3.1 kB)\n",
      "  Using cached tensorflowjs-4.6.0-py3-none-any.whl.metadata (3.1 kB)\n",
      "  Using cached tensorflowjs-4.5.0-py3-none-any.whl.metadata (3.1 kB)\n",
      "  Using cached tensorflowjs-4.4.0-py3-none-any.whl.metadata (3.2 kB)\n",
      "Requirement already satisfied: protobuf<3.20,>=3.9.2 in c:\\users\\len0v0\\appdata\\local\\programs\\python\\python38\\lib\\site-packages (from tensorflowjs) (3.19.6)\n",
      "Requirement already satisfied: tensorflow<3,>=2.10.0 in c:\\users\\len0v0\\appdata\\local\\programs\\python\\python38\\lib\\site-packages (from tensorflowjs) (2.10.1)\n",
      "  Using cached tensorflowjs-4.3.0-py3-none-any.whl.metadata (3.2 kB)\n",
      "  Using cached tensorflowjs-4.2.0-py3-none-any.whl.metadata (1.7 kB)\n",
      "  Using cached tensorflowjs-4.1.0-py3-none-any.whl.metadata (1.7 kB)\n",
      "  Using cached tensorflowjs-4.0.0-py3-none-any.whl.metadata (1.7 kB)\n",
      "  Using cached tensorflowjs-3.21.0-py3-none-any.whl.metadata (1.7 kB)\n",
      "Requirement already satisfied: six<2,>=1.12.0 in c:\\users\\len0v0\\appdata\\local\\programs\\python\\python38\\lib\\site-packages (from tensorflowjs) (1.16.0)\n",
      "Collecting tensorflow-hub<0.13,>=0.7.0 (from tensorflowjs)\n",
      "  Using cached tensorflow_hub-0.12.0-py2.py3-none-any.whl.metadata (1.7 kB)\n",
      "Collecting packaging~=20.9 (from tensorflowjs)\n",
      "  Using cached packaging-20.9-py2.py3-none-any.whl.metadata (13 kB)\n",
      "Requirement already satisfied: numpy>=1.12 in c:\\users\\len0v0\\appdata\\local\\programs\\python\\python38\\lib\\site-packages (from flax>=0.7.2->tensorflowjs) (1.22.4)\n",
      "Collecting msgpack (from flax>=0.7.2->tensorflowjs)\n",
      "  Using cached msgpack-1.0.8-cp38-cp38-win_amd64.whl.metadata (9.4 kB)\n",
      "Collecting optax (from flax>=0.7.2->tensorflowjs)\n",
      "  Using cached optax-0.1.8-py3-none-any.whl.metadata (14 kB)\n",
      "Collecting orbax-checkpoint (from flax>=0.7.2->tensorflowjs)\n",
      "  Using cached orbax_checkpoint-0.2.3-py3-none-any.whl.metadata (1.8 kB)\n",
      "Collecting tensorstore (from flax>=0.7.2->tensorflowjs)\n",
      "  Using cached tensorstore-0.1.45-cp38-cp38-win_amd64.whl.metadata (3.0 kB)\n",
      "Collecting rich>=11.1 (from flax>=0.7.2->tensorflowjs)\n",
      "  Using cached rich-13.7.1-py3-none-any.whl.metadata (18 kB)\n",
      "Requirement already satisfied: typing-extensions>=4.1.1 in c:\\users\\len0v0\\appdata\\local\\programs\\python\\python38\\lib\\site-packages (from flax>=0.7.2->tensorflowjs) (4.5.0)\n",
      "Requirement already satisfied: PyYAML>=5.4.1 in c:\\users\\len0v0\\appdata\\local\\programs\\python\\python38\\lib\\site-packages (from flax>=0.7.2->tensorflowjs) (6.0.1)\n",
      "Requirement already satisfied: zipp>=3.1.0 in c:\\users\\len0v0\\appdata\\local\\programs\\python\\python38\\lib\\site-packages (from importlib_resources>=5.9.0->tensorflowjs) (3.18.2)\n",
      "Collecting ml-dtypes>=0.1.0 (from jax>=0.4.13->tensorflowjs)\n",
      "  Using cached ml_dtypes-0.2.0-cp38-cp38-win_amd64.whl.metadata (20 kB)\n",
      "Requirement already satisfied: opt-einsum in c:\\users\\len0v0\\appdata\\local\\programs\\python\\python38\\lib\\site-packages (from jax>=0.4.13->tensorflowjs) (3.3.0)\n",
      "Requirement already satisfied: scipy>=1.7 in c:\\users\\len0v0\\appdata\\local\\programs\\python\\python38\\lib\\site-packages (from jax>=0.4.13->tensorflowjs) (1.7.3)\n",
      "Requirement already satisfied: importlib-metadata>=4.6 in c:\\users\\len0v0\\appdata\\local\\programs\\python\\python38\\lib\\site-packages (from jax>=0.4.13->tensorflowjs) (7.1.0)\n",
      "Requirement already satisfied: pyparsing>=2.0.2 in c:\\users\\len0v0\\appdata\\local\\programs\\python\\python38\\lib\\site-packages (from packaging~=20.9->tensorflowjs) (3.1.2)\n",
      "Requirement already satisfied: absl-py>=1.0.0 in c:\\users\\len0v0\\appdata\\local\\programs\\python\\python38\\lib\\site-packages (from tensorflow<3,>=2.10.0->tensorflowjs) (1.4.0)\n",
      "Requirement already satisfied: astunparse>=1.6.0 in c:\\users\\len0v0\\appdata\\local\\programs\\python\\python38\\lib\\site-packages (from tensorflow<3,>=2.10.0->tensorflowjs) (1.6.3)\n",
      "Requirement already satisfied: flatbuffers>=2.0 in c:\\users\\len0v0\\appdata\\local\\programs\\python\\python38\\lib\\site-packages (from tensorflow<3,>=2.10.0->tensorflowjs) (24.3.25)\n",
      "Requirement already satisfied: gast<=0.4.0,>=0.2.1 in c:\\users\\len0v0\\appdata\\local\\programs\\python\\python38\\lib\\site-packages (from tensorflow<3,>=2.10.0->tensorflowjs) (0.4.0)\n",
      "Requirement already satisfied: google-pasta>=0.1.1 in c:\\users\\len0v0\\appdata\\local\\programs\\python\\python38\\lib\\site-packages (from tensorflow<3,>=2.10.0->tensorflowjs) (0.2.0)\n",
      "Requirement already satisfied: h5py>=2.9.0 in c:\\users\\len0v0\\appdata\\local\\programs\\python\\python38\\lib\\site-packages (from tensorflow<3,>=2.10.0->tensorflowjs) (3.11.0)\n",
      "Requirement already satisfied: keras-preprocessing>=1.1.1 in c:\\users\\len0v0\\appdata\\local\\programs\\python\\python38\\lib\\site-packages (from tensorflow<3,>=2.10.0->tensorflowjs) (1.1.2)\n",
      "Requirement already satisfied: libclang>=13.0.0 in c:\\users\\len0v0\\appdata\\local\\programs\\python\\python38\\lib\\site-packages (from tensorflow<3,>=2.10.0->tensorflowjs) (18.1.1)\n",
      "Requirement already satisfied: setuptools in c:\\users\\len0v0\\appdata\\local\\programs\\python\\python38\\lib\\site-packages (from tensorflow<3,>=2.10.0->tensorflowjs) (41.2.0)\n",
      "Requirement already satisfied: termcolor>=1.1.0 in c:\\users\\len0v0\\appdata\\local\\programs\\python\\python38\\lib\\site-packages (from tensorflow<3,>=2.10.0->tensorflowjs) (2.4.0)\n",
      "Requirement already satisfied: wrapt>=1.11.0 in c:\\users\\len0v0\\appdata\\local\\programs\\python\\python38\\lib\\site-packages (from tensorflow<3,>=2.10.0->tensorflowjs) (1.16.0)\n",
      "Requirement already satisfied: tensorflow-io-gcs-filesystem>=0.23.1 in c:\\users\\len0v0\\appdata\\local\\programs\\python\\python38\\lib\\site-packages (from tensorflow<3,>=2.10.0->tensorflowjs) (0.31.0)\n",
      "Requirement already satisfied: grpcio<2.0,>=1.24.3 in c:\\users\\len0v0\\appdata\\local\\programs\\python\\python38\\lib\\site-packages (from tensorflow<3,>=2.10.0->tensorflowjs) (1.63.0)\n",
      "Requirement already satisfied: tensorboard<2.11,>=2.10 in c:\\users\\len0v0\\appdata\\local\\programs\\python\\python38\\lib\\site-packages (from tensorflow<3,>=2.10.0->tensorflowjs) (2.10.1)\n",
      "Requirement already satisfied: tensorflow-estimator<2.11,>=2.10.0 in c:\\users\\len0v0\\appdata\\local\\programs\\python\\python38\\lib\\site-packages (from tensorflow<3,>=2.10.0->tensorflowjs) (2.10.0)\n",
      "Requirement already satisfied: keras<2.11,>=2.10.0 in c:\\users\\len0v0\\appdata\\local\\programs\\python\\python38\\lib\\site-packages (from tensorflow<3,>=2.10.0->tensorflowjs) (2.10.0)\n",
      "Requirement already satisfied: wheel<1.0,>=0.23.0 in c:\\users\\len0v0\\appdata\\local\\programs\\python\\python38\\lib\\site-packages (from astunparse>=1.6.0->tensorflow<3,>=2.10.0->tensorflowjs) (0.43.0)\n",
      "Collecting markdown-it-py>=2.2.0 (from rich>=11.1->flax>=0.7.2->tensorflowjs)\n",
      "  Using cached markdown_it_py-3.0.0-py3-none-any.whl.metadata (6.9 kB)\n",
      "Requirement already satisfied: pygments<3.0.0,>=2.13.0 in c:\\users\\len0v0\\appdata\\local\\programs\\python\\python38\\lib\\site-packages (from rich>=11.1->flax>=0.7.2->tensorflowjs) (2.18.0)\n",
      "Requirement already satisfied: google-auth<3,>=1.6.3 in c:\\users\\len0v0\\appdata\\local\\programs\\python\\python38\\lib\\site-packages (from tensorboard<2.11,>=2.10->tensorflow<3,>=2.10.0->tensorflowjs) (2.29.0)\n",
      "Requirement already satisfied: google-auth-oauthlib<0.5,>=0.4.1 in c:\\users\\len0v0\\appdata\\local\\programs\\python\\python38\\lib\\site-packages (from tensorboard<2.11,>=2.10->tensorflow<3,>=2.10.0->tensorflowjs) (0.4.6)\n",
      "Requirement already satisfied: markdown>=2.6.8 in c:\\users\\len0v0\\appdata\\local\\programs\\python\\python38\\lib\\site-packages (from tensorboard<2.11,>=2.10->tensorflow<3,>=2.10.0->tensorflowjs) (3.6)\n",
      "Requirement already satisfied: requests<3,>=2.21.0 in c:\\users\\len0v0\\appdata\\local\\programs\\python\\python38\\lib\\site-packages (from tensorboard<2.11,>=2.10->tensorflow<3,>=2.10.0->tensorflowjs) (2.31.0)\n",
      "Requirement already satisfied: tensorboard-data-server<0.7.0,>=0.6.0 in c:\\users\\len0v0\\appdata\\local\\programs\\python\\python38\\lib\\site-packages (from tensorboard<2.11,>=2.10->tensorflow<3,>=2.10.0->tensorflowjs) (0.6.1)\n",
      "Requirement already satisfied: tensorboard-plugin-wit>=1.6.0 in c:\\users\\len0v0\\appdata\\local\\programs\\python\\python38\\lib\\site-packages (from tensorboard<2.11,>=2.10->tensorflow<3,>=2.10.0->tensorflowjs) (1.8.1)\n",
      "Requirement already satisfied: werkzeug>=1.0.1 in c:\\users\\len0v0\\appdata\\local\\programs\\python\\python38\\lib\\site-packages (from tensorboard<2.11,>=2.10->tensorflow<3,>=2.10.0->tensorflowjs) (3.0.3)\n",
      "Collecting chex>=0.1.7 (from optax->flax>=0.7.2->tensorflowjs)\n",
      "  Using cached chex-0.1.7-py3-none-any.whl.metadata (17 kB)\n",
      "INFO: pip is looking at multiple versions of optax to determine which version is compatible with other requirements. This could take a while.\n",
      "Collecting optax (from flax>=0.7.2->tensorflowjs)\n",
      "  Using cached optax-0.1.7-py3-none-any.whl.metadata (13 kB)\n",
      "  Using cached optax-0.1.5-py3-none-any.whl.metadata (12 kB)\n",
      "  Using cached optax-0.1.4-py3-none-any.whl.metadata (12 kB)\n",
      "  Using cached optax-0.1.3-py3-none-any.whl.metadata (12 kB)\n",
      "  Using cached optax-0.1.2-py3-none-any.whl.metadata (12 kB)\n",
      "  Using cached optax-0.1.1-py3-none-any.whl.metadata (12 kB)\n",
      "  Using cached optax-0.1.0-py3-none-any.whl.metadata (12 kB)\n",
      "INFO: pip is still looking at multiple versions of optax to determine which version is compatible with other requirements. This could take a while.\n",
      "  Using cached optax-0.0.91-py3-none-any.whl.metadata (12 kB)\n",
      "  Using cached optax-0.0.9-py3-none-any.whl.metadata (9.3 kB)\n",
      "  Using cached optax-0.0.8-py3-none-any.whl.metadata (9.3 kB)\n",
      "  Using cached optax-0.0.6-py3-none-any.whl.metadata (9.0 kB)\n",
      "  Using cached optax-0.0.5-py3-none-any.whl.metadata (9.0 kB)\n",
      "INFO: This is taking longer than usual. You might need to provide the dependency resolver with stricter constraints to reduce runtime. See https://pip.pypa.io/warnings/backtracking for guidance. If you want to abort this run, press Ctrl + C.\n",
      "  Using cached optax-0.0.3-py3-none-any.whl.metadata (9.0 kB)\n",
      "  Using cached optax-0.0.2-py3-none-any.whl.metadata (9.0 kB)\n",
      "  Using cached optax-0.0.1-py3-none-any.whl.metadata (8.4 kB)\n",
      "Collecting flax>=0.5.3 (from tensorflowjs)\n",
      "  Using cached flax-0.7.0-py3-none-any.whl.metadata (9.9 kB)\n",
      "  Using cached flax-0.6.11-py3-none-any.whl.metadata (9.9 kB)\n",
      "  Using cached flax-0.6.10-py3-none-any.whl.metadata (9.9 kB)\n",
      "  Using cached flax-0.6.9-py3-none-any.whl.metadata (9.9 kB)\n",
      "  Using cached flax-0.6.8-py3-none-any.whl.metadata (9.9 kB)\n",
      "Collecting orbax (from flax>=0.5.3->tensorflowjs)\n",
      "  Using cached orbax-0.1.9.tar.gz (1.6 kB)\n",
      "  Preparing metadata (setup.py): started\n",
      "  Preparing metadata (setup.py): finished with status 'done'\n",
      "Collecting flax>=0.5.3 (from tensorflowjs)\n",
      "  Using cached flax-0.6.7-py3-none-any.whl.metadata (9.8 kB)\n",
      "  Using cached flax-0.6.6-py3-none-any.whl.metadata (9.6 kB)\n",
      "Requirement already satisfied: matplotlib in c:\\users\\len0v0\\appdata\\local\\programs\\python\\python38\\lib\\site-packages (from flax>=0.5.3->tensorflowjs) (3.7.5)\n",
      "  Using cached flax-0.6.4-py3-none-any.whl.metadata (9.6 kB)\n",
      "  Using cached flax-0.6.3-py3-none-any.whl.metadata (9.5 kB)\n",
      "  Using cached flax-0.6.1-py3-none-any.whl.metadata (9.4 kB)\n",
      "  Using cached flax-0.6.0-py3-none-any.whl.metadata (9.4 kB)\n",
      "Collecting rich~=11.1 (from flax>=0.5.3->tensorflowjs)\n",
      "  Using cached rich-11.2.0-py3-none-any.whl.metadata (19 kB)\n",
      "Collecting flax>=0.5.3 (from tensorflowjs)\n",
      "  Using cached flax-0.5.3-py3-none-any.whl.metadata (9.4 kB)\n",
      "\n",
      "The conflict is caused by:\n",
      "    optax 0.1.8 depends on jaxlib>=0.1.37\n",
      "    optax 0.1.7 depends on jaxlib>=0.1.37\n",
      "    optax 0.1.5 depends on jaxlib>=0.1.37\n",
      "    optax 0.1.4 depends on jaxlib>=0.1.37\n",
      "    optax 0.1.3 depends on jaxlib>=0.1.37\n",
      "    optax 0.1.2 depends on jaxlib>=0.1.37\n",
      "    optax 0.1.1 depends on jaxlib>=0.1.37\n",
      "    optax 0.1.0 depends on jaxlib>=0.1.37\n",
      "    optax 0.0.91 depends on jaxlib>=0.1.37\n",
      "    optax 0.0.9 depends on jaxlib>=0.1.37\n",
      "    optax 0.0.8 depends on jaxlib>=0.1.37\n",
      "    optax 0.0.6 depends on jaxlib>=0.1.37\n",
      "    optax 0.0.5 depends on jaxlib>=0.1.37\n",
      "    optax 0.0.3 depends on jaxlib>=0.1.37\n",
      "    optax 0.0.2 depends on jaxlib>=0.1.37\n",
      "    optax 0.0.1 depends on jaxlib>=0.1.37\n",
      "\n",
      "To fix this you could try to:\n",
      "1. loosen the range of package versions you've specified\n",
      "2. remove package versions to allow pip attempt to solve the dependency conflict\n",
      "\n",
      "Note: you may need to restart the kernel to use updated packages.\n"
     ]
    },
    {
     "name": "stderr",
     "output_type": "stream",
     "text": [
      "ERROR: Cannot install flax because these package versions have conflicting dependencies.\n",
      "ERROR: ResolutionImpossible: for help visit https://pip.pypa.io/en/latest/topics/dependency-resolution/#dealing-with-dependency-conflicts\n"
     ]
    }
   ],
   "source": [
    "%pip install tensorflowjs"
   ]
  },
  {
   "cell_type": "code",
   "execution_count": null,
   "metadata": {},
   "outputs": [],
   "source": [
    "!tensorflowjs_converter --input_format=keras {saved_model_path} ./"
   ]
  },
  {
   "cell_type": "code",
   "execution_count": null,
   "metadata": {},
   "outputs": [],
   "source": [
    "!zip model.zip *.bin model.json"
   ]
  },
  {
   "cell_type": "code",
   "execution_count": null,
   "metadata": {},
   "outputs": [],
   "source": []
  },
  {
   "cell_type": "code",
   "execution_count": null,
   "metadata": {},
   "outputs": [],
   "source": []
  }
 ],
 "metadata": {
  "kernelspec": {
   "display_name": "Python 3",
   "language": "python",
   "name": "python3"
  },
  "language_info": {
   "codemirror_mode": {
    "name": "ipython",
    "version": 3
   },
   "file_extension": ".py",
   "mimetype": "text/x-python",
   "name": "python",
   "nbconvert_exporter": "python",
   "pygments_lexer": "ipython3",
   "version": "3.8.0"
  }
 },
 "nbformat": 4,
 "nbformat_minor": 2
}
