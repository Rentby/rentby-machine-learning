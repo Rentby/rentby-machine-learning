{
 "cells": [
  {
   "cell_type": "markdown",
   "metadata": {},
   "source": [
    "### Import Libraries"
   ]
  },
  {
   "cell_type": "code",
   "execution_count": 1,
   "metadata": {},
   "outputs": [],
   "source": [
    "import pandas as pd\n",
    "import os\n",
    "import numpy as np\n",
    "\n",
    "import tensorflow as tf\n",
    "from tensorflow.keras.preprocessing.sequence import pad_sequences\n",
    "from tensorflow.keras.layers import Embedding, LSTM, Dense, Bidirectional\n",
    "from tensorflow.keras.preprocessing.text import Tokenizer\n",
    "from tensorflow.keras.models import Sequential\n",
    "from tensorflow.keras.optimizers import Adam"
   ]
  },
  {
   "cell_type": "markdown",
   "metadata": {},
   "source": [
    "### Dataset information\n",
    "* Product Name\n",
    "* Rent Price\n",
    "* Product Photo\n",
    "* Renters\n",
    "* Description"
   ]
  },
  {
   "cell_type": "code",
   "execution_count": 2,
   "metadata": {},
   "outputs": [
    {
     "data": {
      "text/html": [
       "<div>\n",
       "<style scoped>\n",
       "    .dataframe tbody tr th:only-of-type {\n",
       "        vertical-align: middle;\n",
       "    }\n",
       "\n",
       "    .dataframe tbody tr th {\n",
       "        vertical-align: top;\n",
       "    }\n",
       "\n",
       "    .dataframe thead th {\n",
       "        text-align: right;\n",
       "    }\n",
       "</style>\n",
       "<table border=\"1\" class=\"dataframe\">\n",
       "  <thead>\n",
       "    <tr style=\"text-align: right;\">\n",
       "      <th></th>\n",
       "      <th>product_name</th>\n",
       "      <th>rent_price</th>\n",
       "      <th>url_photo</th>\n",
       "      <th>link</th>\n",
       "      <th>renters</th>\n",
       "      <th>description</th>\n",
       "      <th>hiking</th>\n",
       "      <th>cosplay</th>\n",
       "    </tr>\n",
       "  </thead>\n",
       "  <tbody>\n",
       "    <tr>\n",
       "      <th>0</th>\n",
       "      <td>Aksesoris Fashion Topeng Cosplay Pesta Hallowe...</td>\n",
       "      <td>3650.0</td>\n",
       "      <td>https://images.tokopedia.net/img/cache/200-squ...</td>\n",
       "      <td>https://ta.tokopedia.com/promo/v1/clicks/8a-xg...</td>\n",
       "      <td>LenkaWeddingShop</td>\n",
       "      <td>𝐑𝐄𝐀𝐃𝐘 𝐒𝐓𝐎𝐊, 𝐋𝐀𝐍𝐆𝐒𝐔𝐍𝐆 𝐊𝐈𝐑𝐈𝐌 !!  𝐏𝐑𝐈𝐕𝐀𝐒𝐈 𝐃𝐈𝐉𝐀𝐌𝐈𝐍...</td>\n",
       "      <td>0</td>\n",
       "      <td>1</td>\n",
       "    </tr>\n",
       "    <tr>\n",
       "      <th>1</th>\n",
       "      <td>Topeng Pesta Unisex Cosplay Aksesoris Party Pu...</td>\n",
       "      <td>3650.0</td>\n",
       "      <td>https://images.tokopedia.net/img/cache/200-squ...</td>\n",
       "      <td>https://ta.tokopedia.com/promo/v1/clicks/8a-xg...</td>\n",
       "      <td>LenkaWeddingShop</td>\n",
       "      <td>𝐑𝐄𝐀𝐃𝐘 𝐒𝐓𝐎𝐊, 𝐋𝐀𝐍𝐆𝐒𝐔𝐍𝐆 𝐊𝐈𝐑𝐈𝐌 !!  𝐏𝐑𝐈𝐕𝐀𝐒𝐈 𝐃𝐈𝐉𝐀𝐌𝐈𝐍...</td>\n",
       "      <td>0</td>\n",
       "      <td>1</td>\n",
       "    </tr>\n",
       "    <tr>\n",
       "      <th>2</th>\n",
       "      <td>Aksesoris Pesta Unisex Topeng Cosplay Hallowee...</td>\n",
       "      <td>3200.0</td>\n",
       "      <td>https://images.tokopedia.net/img/cache/200-squ...</td>\n",
       "      <td>https://ta.tokopedia.com/promo/v1/clicks/8a-xg...</td>\n",
       "      <td>LenkaWeddingShop</td>\n",
       "      <td>𝐑𝐄𝐀𝐃𝐘 𝐒𝐓𝐎𝐊, 𝐋𝐀𝐍𝐆𝐒𝐔𝐍𝐆 𝐊𝐈𝐑𝐈𝐌 !!  𝐏𝐑𝐈𝐕𝐀𝐒𝐈 𝐃𝐈𝐉𝐀𝐌𝐈𝐍...</td>\n",
       "      <td>0</td>\n",
       "      <td>1</td>\n",
       "    </tr>\n",
       "    <tr>\n",
       "      <th>3</th>\n",
       "      <td>2pcs Telinga Elf Kuping Palsu Elf Ears Aksesor...</td>\n",
       "      <td>1900.0</td>\n",
       "      <td>https://images.tokopedia.net/img/cache/200-squ...</td>\n",
       "      <td>https://ta.tokopedia.com/promo/v1/clicks/8a-xg...</td>\n",
       "      <td>ITOKOTOO</td>\n",
       "      <td>😄Selamat datang, Anda dapat menghubungi kami j...</td>\n",
       "      <td>0</td>\n",
       "      <td>1</td>\n",
       "    </tr>\n",
       "    <tr>\n",
       "      <th>4</th>\n",
       "      <td>Ekor Kucing Cosplay Cat Cosplay Kawaii Cute Ha...</td>\n",
       "      <td>3500.0</td>\n",
       "      <td>https://images.tokopedia.net/img/cache/200-squ...</td>\n",
       "      <td>https://ta.tokopedia.com/promo/v1/clicks/8a-xg...</td>\n",
       "      <td>Mireading</td>\n",
       "      <td>HI, welcome to our store - We provide various ...</td>\n",
       "      <td>0</td>\n",
       "      <td>1</td>\n",
       "    </tr>\n",
       "  </tbody>\n",
       "</table>\n",
       "</div>"
      ],
      "text/plain": [
       "                                        product_name  rent_price  \\\n",
       "0  Aksesoris Fashion Topeng Cosplay Pesta Hallowe...      3650.0   \n",
       "1  Topeng Pesta Unisex Cosplay Aksesoris Party Pu...      3650.0   \n",
       "2  Aksesoris Pesta Unisex Topeng Cosplay Hallowee...      3200.0   \n",
       "3  2pcs Telinga Elf Kuping Palsu Elf Ears Aksesor...      1900.0   \n",
       "4  Ekor Kucing Cosplay Cat Cosplay Kawaii Cute Ha...      3500.0   \n",
       "\n",
       "                                           url_photo  \\\n",
       "0  https://images.tokopedia.net/img/cache/200-squ...   \n",
       "1  https://images.tokopedia.net/img/cache/200-squ...   \n",
       "2  https://images.tokopedia.net/img/cache/200-squ...   \n",
       "3  https://images.tokopedia.net/img/cache/200-squ...   \n",
       "4  https://images.tokopedia.net/img/cache/200-squ...   \n",
       "\n",
       "                                                link           renters  \\\n",
       "0  https://ta.tokopedia.com/promo/v1/clicks/8a-xg...  LenkaWeddingShop   \n",
       "1  https://ta.tokopedia.com/promo/v1/clicks/8a-xg...  LenkaWeddingShop   \n",
       "2  https://ta.tokopedia.com/promo/v1/clicks/8a-xg...  LenkaWeddingShop   \n",
       "3  https://ta.tokopedia.com/promo/v1/clicks/8a-xg...          ITOKOTOO   \n",
       "4  https://ta.tokopedia.com/promo/v1/clicks/8a-xg...         Mireading   \n",
       "\n",
       "                                         description  hiking  cosplay  \n",
       "0  𝐑𝐄𝐀𝐃𝐘 𝐒𝐓𝐎𝐊, 𝐋𝐀𝐍𝐆𝐒𝐔𝐍𝐆 𝐊𝐈𝐑𝐈𝐌 !!  𝐏𝐑𝐈𝐕𝐀𝐒𝐈 𝐃𝐈𝐉𝐀𝐌𝐈𝐍...       0        1  \n",
       "1  𝐑𝐄𝐀𝐃𝐘 𝐒𝐓𝐎𝐊, 𝐋𝐀𝐍𝐆𝐒𝐔𝐍𝐆 𝐊𝐈𝐑𝐈𝐌 !!  𝐏𝐑𝐈𝐕𝐀𝐒𝐈 𝐃𝐈𝐉𝐀𝐌𝐈𝐍...       0        1  \n",
       "2  𝐑𝐄𝐀𝐃𝐘 𝐒𝐓𝐎𝐊, 𝐋𝐀𝐍𝐆𝐒𝐔𝐍𝐆 𝐊𝐈𝐑𝐈𝐌 !!  𝐏𝐑𝐈𝐕𝐀𝐒𝐈 𝐃𝐈𝐉𝐀𝐌𝐈𝐍...       0        1  \n",
       "3  😄Selamat datang, Anda dapat menghubungi kami j...       0        1  \n",
       "4  HI, welcome to our store - We provide various ...       0        1  "
      ]
     },
     "execution_count": 2,
     "metadata": {},
     "output_type": "execute_result"
    }
   ],
   "source": [
    "dataset = pd.read_csv('../data/cleaned_dataset.csv')\n",
    "dataset.head()"
   ]
  },
  {
   "cell_type": "code",
   "execution_count": 3,
   "metadata": {},
   "outputs": [
    {
     "name": "stdout",
     "output_type": "stream",
     "text": [
      "Number of records:  5377\n",
      "Number of fields:  8\n"
     ]
    }
   ],
   "source": [
    "print(\"Number of records: \", dataset.shape[0])\n",
    "print(\"Number of fields: \", dataset.shape[1])"
   ]
  },
  {
   "cell_type": "markdown",
   "metadata": {},
   "source": [
    "### Display products names and preprocess them"
   ]
  },
  {
   "cell_type": "code",
   "execution_count": 4,
   "metadata": {},
   "outputs": [
    {
     "data": {
      "text/plain": [
       "0       Aksesoris Fashion Topeng Cosplay Pesta Hallowe...\n",
       "1       Topeng Pesta Unisex Cosplay Aksesoris Party Pu...\n",
       "2       Aksesoris Pesta Unisex Topeng Cosplay Hallowee...\n",
       "3       2pcs Telinga Elf Kuping Palsu Elf Ears Aksesor...\n",
       "4       Ekor Kucing Cosplay Cat Cosplay Kawaii Cute Ha...\n",
       "                              ...                        \n",
       "5372    Dunlopillo Hooded Thermal Blanket ( Selimut To...\n",
       "5373    TERMURAH KING RABBIT THERMAL BLANKET SELIMUT F...\n",
       "5374    NEW PRODUK KING RABBIT THERMAL BLANKET FLEECE ...\n",
       "5375    dunlopillo thermal & travel blanket black seli...\n",
       "5376    TaffSPORT Selimut Darurat Emergency Blanket Th...\n",
       "Name: product_name, Length: 5377, dtype: object"
      ]
     },
     "execution_count": 4,
     "metadata": {},
     "output_type": "execute_result"
    }
   ],
   "source": [
    "dataset['product_name']"
   ]
  },
  {
   "cell_type": "markdown",
   "metadata": {},
   "source": [
    "Removing unwanted characters and words in product name"
   ]
  },
  {
   "cell_type": "code",
   "execution_count": 5,
   "metadata": {},
   "outputs": [],
   "source": [
    "dataset['product_name'] = dataset['product_name'].apply(lambda x: x.replace(u'\\xa0',u' '))\n",
    "dataset['product_name'] = dataset['product_name'].apply(lambda x: x.replace('\\u200a',' '))"
   ]
  },
  {
   "cell_type": "markdown",
   "metadata": {},
   "source": [
    "### Tokenization"
   ]
  },
  {
   "cell_type": "code",
   "execution_count": 6,
   "metadata": {},
   "outputs": [
    {
     "name": "stdout",
     "output_type": "stream",
     "text": [
      "Total number of words:  4154\n",
      "Word: ID\n",
      "------------\n",
      "<oov>:  1\n",
      "hiking:  219\n",
      "cosplay:  2\n"
     ]
    }
   ],
   "source": [
    "tokenizer = Tokenizer(oov_token='<oov>') # For those words which are not found in word_index\n",
    "tokenizer.fit_on_texts(dataset['product_name'])\n",
    "total_words = len(tokenizer.word_index) + 1\n",
    "\n",
    "print(\"Total number of words: \", total_words)\n",
    "print(\"Word: ID\")\n",
    "print(\"------------\")\n",
    "print(\"<oov>: \", tokenizer.word_index['<oov>'])\n",
    "print(\"hiking: \", tokenizer.word_index['hiking'])\n",
    "print(\"cosplay: \", tokenizer.word_index['cosplay'])"
   ]
  },
  {
   "cell_type": "markdown",
   "metadata": {},
   "source": [
    "Titles text into sequences and make n_gram model"
   ]
  },
  {
   "cell_type": "code",
   "execution_count": 7,
   "metadata": {},
   "outputs": [
    {
     "name": "stdout",
     "output_type": "stream",
     "text": [
      "Total input sequences:  47357\n"
     ]
    }
   ],
   "source": [
    "input_sequences = []\n",
    "for line in dataset['product_name']:\n",
    "    token_list = tokenizer.texts_to_sequences([line])[0]\n",
    "    #print(token_list)\n",
    "    \n",
    "    for i in range(1, len(token_list)):\n",
    "        n_gram_sequence = token_list[:i+1]\n",
    "        input_sequences.append(n_gram_sequence)\n",
    "\n",
    "# print(input_sequences)\n",
    "print(\"Total input sequences: \", len(input_sequences))"
   ]
  },
  {
   "cell_type": "markdown",
   "metadata": {},
   "source": [
    "Make all product names with same length by using padding"
   ]
  },
  {
   "cell_type": "code",
   "execution_count": 8,
   "metadata": {},
   "outputs": [
    {
     "data": {
      "text/plain": [
       "array([  0,   0,   0,   0,   0,   0,   0,   0,   0,   0,   0,   0,   0,\n",
       "         0,   0,   0,   0,   0,   0,   0,   0,   0,   0,   0,   0,   0,\n",
       "         0,   0,   0,   0,   0,   0,   0,   0,   0,   0,  32, 356,   7])"
      ]
     },
     "execution_count": 8,
     "metadata": {},
     "output_type": "execute_result"
    }
   ],
   "source": [
    "# pad sequences \n",
    "max_sequence_len = max([len(x) for x in input_sequences])\n",
    "input_sequences = np.array(pad_sequences(input_sequences, maxlen=max_sequence_len, padding='pre'))\n",
    "input_sequences[1]"
   ]
  },
  {
   "cell_type": "markdown",
   "metadata": {},
   "source": [
    "\n",
    "Prepare features and labels"
   ]
  },
  {
   "cell_type": "code",
   "execution_count": 9,
   "metadata": {},
   "outputs": [],
   "source": [
    "# create features and label\n",
    "xs, labels = input_sequences[:,:-1],input_sequences[:,-1]\n",
    "ys = tf.keras.utils.to_categorical(labels, num_classes=total_words)"
   ]
  },
  {
   "cell_type": "code",
   "execution_count": 10,
   "metadata": {},
   "outputs": [
    {
     "name": "stdout",
     "output_type": "stream",
     "text": [
      "[  0   0   0   0   0   0   0   0   0   0   0   0   0   0   0   0   0   0\n",
      "   0   0   0   0   0   0   0   0   0   0   0   0   0   0  32 356   7   2\n",
      "  30  11]\n",
      "54\n",
      "0.0\n"
     ]
    }
   ],
   "source": [
    "print(xs[5])\n",
    "print(labels[5])\n",
    "print(ys[5][14])"
   ]
  },
  {
   "cell_type": "markdown",
   "metadata": {},
   "source": [
    "## Bi- LSTM Neural Network Model training"
   ]
  },
  {
   "cell_type": "code",
   "execution_count": 11,
   "metadata": {},
   "outputs": [
    {
     "name": "stdout",
     "output_type": "stream",
     "text": [
      "Epoch 1/50\n"
     ]
    },
    {
     "name": "stderr",
     "output_type": "stream",
     "text": [
      "c:\\Users\\LEN0V0\\AppData\\Local\\Programs\\Python\\Python38\\lib\\site-packages\\keras\\optimizers\\optimizer_v2\\adam.py:114: UserWarning: The `lr` argument is deprecated, use `learning_rate` instead.\n",
      "  super().__init__(name, **kwargs)\n"
     ]
    },
    {
     "name": "stdout",
     "output_type": "stream",
     "text": [
      "1480/1480 [==============================] - 105s 69ms/step - loss: 5.7656 - accuracy: 0.1077\n",
      "Epoch 2/50\n",
      "1480/1480 [==============================] - 87s 59ms/step - loss: 3.7311 - accuracy: 0.3409\n",
      "Epoch 3/50\n",
      "1480/1480 [==============================] - 121s 82ms/step - loss: 2.7531 - accuracy: 0.5094\n",
      "Epoch 4/50\n",
      "1480/1480 [==============================] - 86s 58ms/step - loss: 2.1986 - accuracy: 0.5913\n",
      "Epoch 5/50\n",
      "1480/1480 [==============================] - 76s 51ms/step - loss: 1.8259 - accuracy: 0.6381\n",
      "Epoch 6/50\n",
      "1480/1480 [==============================] - 76s 51ms/step - loss: 1.5432 - accuracy: 0.6789\n",
      "Epoch 7/50\n",
      "1480/1480 [==============================] - 76s 52ms/step - loss: 1.3224 - accuracy: 0.7129\n",
      "Epoch 8/50\n",
      "1480/1480 [==============================] - 76s 51ms/step - loss: 1.1394 - accuracy: 0.7461\n",
      "Epoch 9/50\n",
      "1480/1480 [==============================] - 79s 53ms/step - loss: 0.9914 - accuracy: 0.7755\n",
      "Epoch 10/50\n",
      "1480/1480 [==============================] - 78s 53ms/step - loss: 0.8694 - accuracy: 0.7975\n",
      "Epoch 11/50\n",
      "1480/1480 [==============================] - 78s 53ms/step - loss: 0.7686 - accuracy: 0.8174\n",
      "Epoch 12/50\n",
      "1480/1480 [==============================] - 78s 53ms/step - loss: 0.6863 - accuracy: 0.8351\n",
      "Epoch 13/50\n",
      "1480/1480 [==============================] - 80s 54ms/step - loss: 0.6192 - accuracy: 0.8478\n",
      "Epoch 14/50\n",
      "1480/1480 [==============================] - 82s 55ms/step - loss: 0.5638 - accuracy: 0.8595\n",
      "Epoch 15/50\n",
      "1480/1480 [==============================] - 102s 69ms/step - loss: 0.5213 - accuracy: 0.8681\n",
      "Epoch 16/50\n",
      "1480/1480 [==============================] - 131s 89ms/step - loss: 0.4850 - accuracy: 0.8748\n",
      "Epoch 17/50\n",
      "1480/1480 [==============================] - 133s 90ms/step - loss: 0.4529 - accuracy: 0.8806\n",
      "Epoch 18/50\n",
      "1480/1480 [==============================] - 130s 88ms/step - loss: 0.4305 - accuracy: 0.8849\n",
      "Epoch 19/50\n",
      "1480/1480 [==============================] - 133s 90ms/step - loss: 0.4122 - accuracy: 0.8875\n",
      "Epoch 20/50\n",
      "1480/1480 [==============================] - 136s 92ms/step - loss: 0.3984 - accuracy: 0.8904\n",
      "Epoch 21/50\n",
      "1480/1480 [==============================] - 138s 94ms/step - loss: 0.3857 - accuracy: 0.8920\n",
      "Epoch 22/50\n",
      "1480/1480 [==============================] - 138s 93ms/step - loss: 0.3758 - accuracy: 0.8942\n",
      "Epoch 23/50\n",
      "1480/1480 [==============================] - 139s 94ms/step - loss: 0.3681 - accuracy: 0.8940\n",
      "Epoch 24/50\n",
      "1480/1480 [==============================] - 143s 97ms/step - loss: 0.3613 - accuracy: 0.8952\n",
      "Epoch 25/50\n",
      "1480/1480 [==============================] - 144s 97ms/step - loss: 0.3556 - accuracy: 0.8958\n",
      "Epoch 26/50\n",
      "1480/1480 [==============================] - 146s 99ms/step - loss: 0.3518 - accuracy: 0.8960\n",
      "Epoch 27/50\n",
      "1480/1480 [==============================] - 143s 97ms/step - loss: 0.3463 - accuracy: 0.8964\n",
      "Epoch 28/50\n",
      "1480/1480 [==============================] - 80s 54ms/step - loss: 0.3433 - accuracy: 0.8972\n",
      "Epoch 29/50\n",
      "1480/1480 [==============================] - 80s 54ms/step - loss: 0.3410 - accuracy: 0.8964\n",
      "Epoch 30/50\n",
      "1480/1480 [==============================] - 81s 54ms/step - loss: 0.3393 - accuracy: 0.8977\n",
      "Epoch 31/50\n",
      "1480/1480 [==============================] - 85s 58ms/step - loss: 0.3358 - accuracy: 0.8979\n",
      "Epoch 32/50\n",
      "1480/1480 [==============================] - 83s 56ms/step - loss: 0.3336 - accuracy: 0.8973\n",
      "Epoch 33/50\n",
      "1480/1480 [==============================] - 83s 56ms/step - loss: 0.3341 - accuracy: 0.8962\n",
      "Epoch 34/50\n",
      "1480/1480 [==============================] - 86s 58ms/step - loss: 0.3300 - accuracy: 0.8982\n",
      "Epoch 35/50\n",
      "1480/1480 [==============================] - 84s 57ms/step - loss: 0.3298 - accuracy: 0.8977\n",
      "Epoch 36/50\n",
      "1480/1480 [==============================] - 84s 57ms/step - loss: 0.3269 - accuracy: 0.8975\n",
      "Epoch 37/50\n",
      "1480/1480 [==============================] - 84s 57ms/step - loss: 0.3265 - accuracy: 0.8975\n",
      "Epoch 38/50\n",
      "1480/1480 [==============================] - 84s 57ms/step - loss: 0.3247 - accuracy: 0.8987\n",
      "Epoch 39/50\n",
      "1480/1480 [==============================] - 85s 57ms/step - loss: 0.3248 - accuracy: 0.8989\n",
      "Epoch 40/50\n",
      "1480/1480 [==============================] - 85s 57ms/step - loss: 0.3246 - accuracy: 0.8983\n",
      "Epoch 41/50\n",
      "1480/1480 [==============================] - 86s 58ms/step - loss: 0.3219 - accuracy: 0.8980\n",
      "Epoch 42/50\n",
      "1480/1480 [==============================] - 87s 59ms/step - loss: 0.3223 - accuracy: 0.8986\n",
      "Epoch 43/50\n",
      "1480/1480 [==============================] - 86s 58ms/step - loss: 0.3210 - accuracy: 0.8985\n",
      "Epoch 44/50\n",
      "1480/1480 [==============================] - 87s 59ms/step - loss: 0.3194 - accuracy: 0.8995\n",
      "Epoch 45/50\n",
      "1480/1480 [==============================] - 88s 59ms/step - loss: 0.3192 - accuracy: 0.8980\n",
      "Epoch 46/50\n",
      "1480/1480 [==============================] - 88s 59ms/step - loss: 0.3192 - accuracy: 0.8981\n",
      "Epoch 47/50\n",
      "1480/1480 [==============================] - 90s 61ms/step - loss: 0.3177 - accuracy: 0.8986\n",
      "Epoch 48/50\n",
      "1480/1480 [==============================] - 90s 61ms/step - loss: 0.3185 - accuracy: 0.8993\n",
      "Epoch 49/50\n",
      "1480/1480 [==============================] - 91s 62ms/step - loss: 0.3177 - accuracy: 0.8993\n",
      "Epoch 50/50\n",
      "1480/1480 [==============================] - 92s 62ms/step - loss: 0.3192 - accuracy: 0.8974\n"
     ]
    }
   ],
   "source": [
    "model = Sequential()\n",
    "model.add(Embedding(total_words, 100, input_length=max_sequence_len-1))\n",
    "model.add(Bidirectional(LSTM(150)))\n",
    "model.add(Dense(total_words, activation='softmax'))\n",
    "adam = Adam(lr=0.001)\n",
    "model.compile(loss='categorical_crossentropy', optimizer=adam, metrics=['accuracy'])\n",
    "history = model.fit(xs, ys, epochs=50, verbose=1)"
   ]
  },
  {
   "cell_type": "markdown",
   "metadata": {},
   "source": [
    "## Plotting model accuracy and loss"
   ]
  },
  {
   "cell_type": "code",
   "execution_count": 12,
   "metadata": {},
   "outputs": [],
   "source": [
    "import matplotlib.pyplot as plt\n",
    "\n",
    "\n",
    "def plot_graphs(history, string):\n",
    "    plt.plot(history.history[string])\n",
    "    plt.xlabel(\"Epochs\")\n",
    "    plt.ylabel(string)\n",
    "    plt.show()"
   ]
  },
  {
   "cell_type": "code",
   "execution_count": 13,
   "metadata": {},
   "outputs": [
    {
     "data": {
      "image/png": "[encoded data removed]",
      "text/plain": [
       "<Figure size 640x480 with 1 Axes>"
      ]
     },
     "metadata": {},
     "output_type": "display_data"
    }
   ],
   "source": [
    "plot_graphs(history, 'accuracy')"
   ]
  },
  {
   "cell_type": "code",
   "execution_count": 14,
   "metadata": {},
   "outputs": [
    {
     "data": {
      "image/png": "[encoded data removed]",
      "text/plain": [
       "<Figure size 640x480 with 1 Axes>"
      ]
     },
     "metadata": {},
     "output_type": "display_data"
    }
   ],
   "source": [
    "plot_graphs(history, 'loss')"
   ]
  },
  {
   "cell_type": "code",
   "execution_count": 20,
   "metadata": {},
   "outputs": [
    {
     "name": "stdout",
     "output_type": "stream",
     "text": [
      "kostum labu halloween anak\n",
      "kostum cosplay iron man\n",
      "kostum onesie pikachu pokemon\n",
      "kostum sadako cosplay hantu\n",
      "kostum anak spiderman far\n"
     ]
    }
   ],
   "source": [
    "seed_text = \"kostum\"\n",
    "next_words = 3\n",
    "num_predictions = 5\n",
    "\n",
    "predicted_products = []\n",
    "\n",
    "for _ in range(num_predictions):\n",
    "    current_seed = seed_text\n",
    "    for _ in range(next_words):\n",
    "        token_list = tokenizer.texts_to_sequences([current_seed])[0]\n",
    "        token_list = pad_sequences([token_list], maxlen=max_sequence_len-1, padding='pre')\n",
    "        \n",
    "        # Get the probabilities for the next word\n",
    "        predicted_probs = model.predict(token_list, verbose=0)[0]\n",
    "        \n",
    "        # Sample from the distribution\n",
    "        predicted_class = np.random.choice(len(predicted_probs), p=predicted_probs)\n",
    "        \n",
    "        output_word = \"\"\n",
    "        for word, index in tokenizer.word_index.items():\n",
    "            if index == predicted_class:\n",
    "                output_word = word\n",
    "                break\n",
    "        current_seed += \" \" + output_word\n",
    "    predicted_products.append(current_seed)\n",
    "\n",
    "for i, prd in enumerate(predicted_products):\n",
    "    print(f\"{prd}\")\n"
   ]
  },
  {
   "cell_type": "code",
   "execution_count": null,
   "metadata": {},
   "outputs": [],
   "source": []
  }
 ],
 "metadata": {
  "kernelspec": {
   "display_name": "Python 3",
   "language": "python",
   "name": "python3"
  },
  "language_info": {
   "codemirror_mode": {
    "name": "ipython",
    "version": 3
   },
   "file_extension": ".py",
   "mimetype": "text/x-python",
   "name": "python",
   "nbconvert_exporter": "python",
   "pygments_lexer": "ipython3",
   "version": "3.8.0"
  }
 },
 "nbformat": 4,
 "nbformat_minor": 2
}
