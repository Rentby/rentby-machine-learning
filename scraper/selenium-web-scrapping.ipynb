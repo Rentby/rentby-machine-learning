{
 "cells": [
  {
   "cell_type": "code",
   "execution_count": null,
   "id": "f3c6a7ae-28f4-4864-bace-2853a1bc212f",
   "metadata": {},
   "outputs": [],
   "source": [
    "import time\n",
    "from selenium import webdriver\n",
    "from selenium.webdriver.support import expected_conditions as EC\n",
    "from selenium.webdriver.support.ui import WebDriverWait\n",
    "from selenium.webdriver.common.by import By\n",
    "from bs4 import BeautifulSoup\n",
    "import pandas as pd\n",
    "from urllib.parse import urlparse, parse_qs"
   ]
  },
  {
   "cell_type": "code",
   "execution_count": null,
   "id": "7a454b50-83ef-4803-931b-b81cc2bc7387",
   "metadata": {},
   "outputs": [],
   "source": [
    "# Defining a function to scrap data from Tokopedia search result page\n",
    "def get_tokopedia_data(datas, url, driver):\n",
    "\n",
    "        # Use driver to access the page, then locate it's elements when it was loaded to finish\n",
    "        driver.get(url)\n",
    "        WebDriverWait(driver, 10).until(EC.presence_of_element_located((By.CSS_SELECTOR, \"#zeus-root\")))\n",
    "        time.sleep(2)\n",
    "        soup = BeautifulSoup(driver.page_source, 'html.parser')\n",
    "        for _ in range(25):\n",
    "            time.sleep(0.5)\n",
    "            driver.execute_script(\"window.scrollBy(0,250)\")\n",
    "\n",
    "        # Find all item cards on page, and scrap name, link, price, and image url on each\n",
    "        elements = soup.findAll('div', class_='pcv3__container css-1izdl9e')\n",
    "        for element in elements:\n",
    "            name = element.find('div', class_='prd_link-product-name css-3um8ox')\n",
    "            link = element.find('a', class_='pcv3__info-content css-gwkf0u')\n",
    "            harga = element.find('div', class_='prd_link-product-price css-h66vau')\n",
    "            gambar = element.find('img', class_='css-1q90pod')\n",
    "\n",
    "            # Append array with scrapped data\n",
    "            if name and link and harga and gambar:\n",
    "                datas.append({\n",
    "                    'product_name': name.text,\n",
    "                    'rent_price': harga.text,\n",
    "                    'url_photo': gambar['src'],\n",
    "                    'link': link['href'],\n",
    "                })"
   ]
  },
  {
   "cell_type": "code",
   "execution_count": null,
   "id": "e459c270-f7db-4952-9d08-c389c411543d",
   "metadata": {},
   "outputs": [],
   "source": [
    "def get_dataframe(query, pages):\n",
    "    # Initialize driver, array, and assign number of pages\n",
    "    driver = webdriver.Chrome()\n",
    "    datas = []\n",
    "    \n",
    "    # Use pages as looping parameter for scraping\n",
    "    for i in range(pages):\n",
    "        url = f'https://www.tokopedia.com/search?navsource=&page={i + 1}&q={query}&srp_component_id=02.01.00.00&srp_page_id=&srp_page_title='\n",
    "        get_tokopedia_data(datas, url, driver)\n",
    "    \n",
    "    # Quit the driver after scraping, turn array into DataFrame, delete array, then show DataFrame\n",
    "    driver.quit()\n",
    "    df = pd.DataFrame(datas)\n",
    "    del(datas)\n",
    "    return df"
   ]
  },
  {
   "cell_type": "code",
   "execution_count": null,
   "id": "97e95dd2-e482-4216-a64a-10a9ab4d226b",
   "metadata": {},
   "outputs": [],
   "source": [
    "# Hiking\n",
    "tenda_gunung_df = get_dataframe('tenda%20gunung', 3)\n",
    "alat_mendaki_df = get_dataframe('alat%20mendaki', 3)\n",
    "tongkat_gunung_df = get_dataframe('tongkat%20gunung', 3)\n",
    "matras_gunung_df = get_dataframe('matras%20gunung', 3)\n",
    "alat_masak_gunung_df = get_dataframe('alat%20masak%20gunung', 3)\n",
    "\n",
    "# Cosplay\n",
    "baju_cosplay_anak_df = get_dataframe('baju%20cosplay%20anak', 3)\n",
    "cosplay_anime_anak_df = get_dataframe('cosplay%20anime%20anak', 3)\n",
    "sepatu_cosplay_df = get_dataframe('sepatu%20cosplay', 3)\n",
    "aksesoris_anak_df = get_dataframe('aksesoris%20anak', 3)\n",
    "kostum_anak_df = get_dataframe('kostum%20anak', 3)\n"
   ]
  },
  {
   "cell_type": "code",
   "execution_count": null,
   "id": "143dcf0a-cb6a-4d4f-97e3-c1539bd93b43",
   "metadata": {},
   "outputs": [],
   "source": [
    "import os\n",
    "hiking_dir = 'scraped/hiking/'\n",
    "cosplay_dir = 'scraped/cosplay/'\n",
    "os.makedirs(hiking_dir, exist_ok=True)\n",
    "os.makedirs(cosplay_dir, exist_ok=True)"
   ]
  },
  {
   "cell_type": "code",
   "execution_count": null,
   "id": "60eacfae",
   "metadata": {},
   "outputs": [],
   "source": [
    "def save_df_to_csv(df_dict, category_dir):\n",
    "    for df_name, df in df_dict.items():\n",
    "        file_name = df_name + '.csv'\n",
    "        df.to_csv(os.path.join(category_dir, file_name), index=False)"
   ]
  },
  {
   "cell_type": "code",
   "execution_count": null,
   "id": "f2016b78",
   "metadata": {},
   "outputs": [],
   "source": [
    "hiking_dfs = {\n",
    "    'tenda_gunung': tenda_gunung_df,\n",
    "    'alat_mendaki': alat_mendaki_df,\n",
    "    'tongkat_gunung': tongkat_gunung_df,\n",
    "    'matras_gunung': matras_gunung_df,\n",
    "    'alat_masak_gunung': alat_masak_gunung_df,\n",
    "}\n",
    "\n",
    "cosplay_dfs = {\n",
    "    'topeng_cosplay': baju_cosplay_anak_df,\n",
    "    'kostum': cosplay_anime_anak_df,\n",
    "    'sepatu_cosplay': sepatu_cosplay_df,\n",
    "    'aksesoris_anak': aksesoris_anak_df,\n",
    "    'kostum_anak': kostum_anak_df\n",
    "}"
   ]
  },
  {
   "cell_type": "code",
   "execution_count": null,
   "id": "8cb390e8-67f2-4ab5-897d-84b7c3f54cce",
   "metadata": {},
   "outputs": [],
   "source": [
    "# Save hiking DataFrames\n",
    "save_df_to_csv(hiking_dfs, hiking_dir)\n",
    "\n",
    "# Save cosplay DataFrames\n",
    "save_df_to_csv(cosplay_dfs, cosplay_dir)"
   ]
  }
 ],
 "metadata": {
  "kernelspec": {
   "display_name": "Python 3 (ipykernel)",
   "language": "python",
   "name": "python3"
  },
  "language_info": {
   "codemirror_mode": {
    "name": "ipython",
    "version": 3
   },
   "file_extension": ".py",
   "mimetype": "text/x-python",
   "name": "python",
   "nbconvert_exporter": "python",
   "pygments_lexer": "ipython3",
   "version": "3.8.19"
  }
 },
 "nbformat": 4,
 "nbformat_minor": 5
}
