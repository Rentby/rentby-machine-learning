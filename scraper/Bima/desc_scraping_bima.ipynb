{
 "cells": [
  {
   "cell_type": "code",
   "execution_count": 1,
   "id": "f3c6a7ae-28f4-4864-bace-2853a1bc212f",
   "metadata": {},
   "outputs": [],
   "source": [
    "import time\n",
    "from selenium import webdriver\n",
    "from selenium.webdriver.support import expected_conditions as EC\n",
    "from selenium.webdriver.support.ui import WebDriverWait\n",
    "from selenium.webdriver.common.by import By\n",
    "from bs4 import BeautifulSoup\n",
    "import pandas as pd\n",
    "import os\n",
    "from urllib.parse import urlparse, parse_qs"
   ]
  },
  {
   "cell_type": "code",
   "execution_count": 2,
   "id": "143dcf0a-cb6a-4d4f-97e3-c1539bd93b43",
   "metadata": {},
   "outputs": [
    {
     "data": {
      "text/plain": [
       "['tongkat_gunung.csv',\n",
       " 'alat_masak_gunung.csv',\n",
       " 'tenda_gunung.csv',\n",
       " 'matras_gunung.csv',\n",
       " 'alat_mendaki.csv']"
      ]
     },
     "execution_count": 2,
     "metadata": {},
     "output_type": "execute_result"
    }
   ],
   "source": [
    "hiking_dir = 'scraped/hiking/'\n",
    "cosplay_dir = 'scraped/cosplay/'\n",
    "os.listdir(hiking_dir)"
   ]
  },
  {
   "cell_type": "code",
   "execution_count": 3,
   "id": "d0271313-c42a-4f53-9450-80d0e503ab9d",
   "metadata": {},
   "outputs": [
    {
     "data": {
      "text/plain": [
       "['kostum.csv',\n",
       " 'topeng_cosplay.csv',\n",
       " 'sepatu_cosplay.csv',\n",
       " 'aksesoris_anak.csv',\n",
       " 'kostum_anak.csv']"
      ]
     },
     "execution_count": 3,
     "metadata": {},
     "output_type": "execute_result"
    }
   ],
   "source": [
    "os.listdir(cosplay_dir)"
   ]
  },
  {
   "cell_type": "code",
   "execution_count": 4,
   "id": "60eacfae",
   "metadata": {},
   "outputs": [],
   "source": [
    "def csv_to_df(dir, file):\n",
    "    return pd.read_csv(os.path.join(dir, file))"
   ]
  },
  {
   "cell_type": "code",
   "execution_count": 5,
   "id": "67599c21",
   "metadata": {},
   "outputs": [],
   "source": [
    "# Hiking\n",
    "tongkat_gunung_df = csv_to_df(hiking_dir, 'tongkat_gunung.csv')\n",
    "alat_masak_gunung_df = csv_to_df(hiking_dir, 'alat_masak_gunung.csv')\n",
    "tenda_gunung_df = csv_to_df(hiking_dir, 'tenda_gunung.csv')\n",
    "matras_gunung_df = csv_to_df(hiking_dir, 'matras_gunung.csv')\n",
    "alat_mendaki_df = csv_to_df(hiking_dir, 'alat_mendaki.csv')\n",
    "\n",
    "# Cosplay\n",
    "kostum_df = csv_to_df(cosplay_dir, 'kostum.csv')\n",
    "topeng_cosplay_df = csv_to_df(cosplay_dir, 'topeng_cosplay.csv')\n",
    "sepatu_cosplay_df = csv_to_df(cosplay_dir, 'sepatu_cosplay.csv')\n",
    "aksesoris_anak_df = csv_to_df(cosplay_dir, 'aksesoris_anak.csv')\n",
    "kostum_anak_df = csv_to_df(cosplay_dir, 'kostum_anak.csv')"
   ]
  },
  {
   "cell_type": "code",
   "execution_count": 6,
   "id": "93496131-126f-41c7-a129-af51fc347ef1",
   "metadata": {},
   "outputs": [],
   "source": [
    "# Define a function to obtain items' description\n",
    "def get_descs_renters(df):\n",
    "    descs = []\n",
    "    renters =[]\n",
    "    urls = df['link']\n",
    "    driver = webdriver.Chrome()\n",
    "\n",
    "    # Loop and parse each link\n",
    "    for link in urls:\n",
    "        parsed_url = urlparse(str(link))\n",
    "        query_params = parse_qs(parsed_url.query)\n",
    "        direct_url = query_params.get('r', [None])[0]\n",
    "\n",
    "        # Visit parsed link, obtain description, then append to array\n",
    "        try:    \n",
    "            driver.get(str(direct_url))\n",
    "            time.sleep(2)\n",
    "            \n",
    "            soup = BeautifulSoup(driver.page_source, 'html.parser')\n",
    "            time.sleep(1)\n",
    "            renter = soup.find('h2', class_ = 'css-1wdzqxj-unf-heading e1qvo2ff2')\n",
    "            desc = soup.select_one('div[data-testid=\"lblPDPDescriptionProduk\"]').get_text(separator=' ')\n",
    "\n",
    "            descs.append({\n",
    "                'renters': renter.text,\n",
    "                'description': desc\n",
    "            })\n",
    "            \n",
    "        except Exception as e:\n",
    "            descs.append({\n",
    "                'renters': 'N/A',\n",
    "                'description': 'N/A'\n",
    "            })\n",
    "    # Quit the driver, then return dataframe\n",
    "    driver.quit()\n",
    "    return pd.DataFrame(descs)"
   ]
  },
  {
   "cell_type": "code",
   "execution_count": 7,
   "id": "8611c606-d8cc-4497-a5e9-d3c436699edc",
   "metadata": {},
   "outputs": [],
   "source": [
    "# Hiking\n",
    "tongkat_gunung_desc_df = get_descs_renters(tongkat_gunung_df)\n",
    "alat_masak_gunung_desc_df = get_descs_renters(alat_masak_gunung_df)\n",
    "tenda_gunung_desc_df = get_descs_renters(tenda_gunung_df)\n",
    "matras_gunung_desc_df = get_descs_renters(matras_gunung_df)\n",
    "alat_mendaki_desc_df = get_descs_renters(alat_mendaki_df)\n",
    "\n",
    "# Cosplay\n",
    "kostum_desc_df = get_descs_renters(kostum_df)\n",
    "topeng_cosplay_desc_df = get_descs_renters(topeng_cosplay_df)\n",
    "aksesoris_anak_desc_df = get_descs_renters(aksesoris_anak_df)\n",
    "kostum_anak_desc_df = get_descs_renters(kostum_anak_df)\n",
    "sepatu_cosplay_desc_df = get_descs_renters(sepatu_cosplay_df)"
   ]
  },
  {
   "cell_type": "code",
   "execution_count": 13,
   "id": "80106171-51ac-47ce-8f6f-966f76d73c56",
   "metadata": {},
   "outputs": [],
   "source": [
    "hiking_desc_dfs = {\n",
    "    'tongkat_gunung_desc': tongkat_gunung_desc_df,\n",
    "    'alat_masak_gunung_desc': alat_masak_gunung_desc_df,\n",
    "    'tenda_gunung_desc': tenda_gunung_desc_df,\n",
    "    'matras_gunung_desc': matras_gunung_desc_df,\n",
    "    'alat_mendaki_desc': alat_mendaki_desc_df\n",
    "}\n",
    "\n",
    "cosplay_desc_dfs = {\n",
    "    'kostum_desc': kostum_desc_df,\n",
    "    'topeng_cosplay_desc': topeng_cosplay_desc_df,\n",
    "    'aksesoris_anak_desc': aksesoris_anak_desc_df,\n",
    "    'kostum_anak_desc': kostum_anak_desc_df,\n",
    "    'sepatu_cosplay_desc': sepatu_cosplay_desc_df,\n",
    "}"
   ]
  },
  {
   "cell_type": "code",
   "execution_count": 14,
   "id": "84cc7034-5311-411b-8927-c5f4b045e0ef",
   "metadata": {},
   "outputs": [],
   "source": [
    "hiking_detail_dir = 'scraped_desc/hiking/'\n",
    "cosplay_detail_dir = 'scraped_desc/cosplay/'\n",
    "os.makedirs(hiking_detail_dir, exist_ok=True)\n",
    "os.makedirs(cosplay_detail_dir, exist_ok=True)"
   ]
  },
  {
   "cell_type": "code",
   "execution_count": 15,
   "id": "a2f8a920-9fa4-446f-850a-bc0bf63dec80",
   "metadata": {},
   "outputs": [],
   "source": [
    "def save_df_to_csv(df_dict, category_dir):\n",
    "    for df_name, df in df_dict.items():\n",
    "        file_name = df_name + '.csv'\n",
    "        df.to_csv(os.path.join(category_dir, file_name), index=False)"
   ]
  },
  {
   "cell_type": "code",
   "execution_count": 16,
   "id": "d17ed48e-cf4f-48bd-90b1-72e5a8ec22d4",
   "metadata": {},
   "outputs": [],
   "source": [
    "# Save hiking DataFrames\n",
    "save_df_to_csv(hiking_desc_dfs, hiking_detail_dir)\n",
    "\n",
    "# Save cosplay DataFrames\n",
    "save_df_to_csv(cosplay_desc_dfs, cosplay_detail_dir)"
   ]
  },
  {
   "cell_type": "code",
   "execution_count": null,
   "id": "4bc1e9ad-85f9-4ba5-be9d-2491bc22d275",
   "metadata": {},
   "outputs": [],
   "source": []
  }
 ],
 "metadata": {
  "kernelspec": {
   "display_name": "Python 3 (ipykernel)",
   "language": "python",
   "name": "python3"
  },
  "language_info": {
   "codemirror_mode": {
    "name": "ipython",
    "version": 3
   },
   "file_extension": ".py",
   "mimetype": "text/x-python",
   "name": "python",
   "nbconvert_exporter": "python",
   "pygments_lexer": "ipython3",
   "version": "3.12.4"
  }
 },
 "nbformat": 4,
 "nbformat_minor": 5
}
