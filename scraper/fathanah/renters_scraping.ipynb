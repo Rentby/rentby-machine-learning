{
 "cells": [
  {
   "cell_type": "code",
   "execution_count": 72,
   "metadata": {},
   "outputs": [],
   "source": [
    "import time\n",
    "from selenium import webdriver\n",
    "from selenium.webdriver.support import expected_conditions as EC\n",
    "from selenium.webdriver.support.ui import WebDriverWait\n",
    "from selenium.webdriver.common.by import By\n",
    "from bs4 import BeautifulSoup\n",
    "import pandas as pd\n",
    "import os\n",
    "from urllib.parse import urlparse, parse_qs"
   ]
  },
  {
   "cell_type": "code",
   "execution_count": 84,
   "metadata": {},
   "outputs": [],
   "source": [
    "product_df =pd.read_csv(\"./data/fathur_new_data.csv\")\n",
    "hiking_df = product_df[product_df['hiking']==1]\n",
    "\n"
   ]
  },
  {
   "cell_type": "code",
   "execution_count": 85,
   "metadata": {},
   "outputs": [],
   "source": [
    "cosplay_df = product_df[product_df['hiking']==1]"
   ]
  },
  {
   "cell_type": "code",
   "execution_count": 86,
   "metadata": {},
   "outputs": [
    {
     "data": {
      "text/plain": [
       "0           Injection Project\n",
       "1            Java Seven Store\n",
       "2                mytactical_1\n",
       "3                  naondstore\n",
       "4                     TWIC_id\n",
       "                ...          \n",
       "995            Toko Priadybam\n",
       "996           Parama Konveksi\n",
       "997    mayangsaridewitaoshops\n",
       "998            abdullahgalang\n",
       "999                chad store\n",
       "Name: renters, Length: 1000, dtype: object"
      ]
     },
     "execution_count": 86,
     "metadata": {},
     "output_type": "execute_result"
    }
   ],
   "source": [
    "renter_df = pd.concat([hiking_df['renters'], cosplay_df['renters']])\n",
    "renter_df = renter_df.drop_duplicates()\n",
    "renter_df = renter_df.dropna()\n",
    "renter_df = renter_df.reset_index(drop=True)\n",
    "renter_df = renter_df.head(1000)\n",
    "renter_df"
   ]
  },
  {
   "cell_type": "code",
   "execution_count": 87,
   "metadata": {},
   "outputs": [],
   "source": [
    "import time\n",
    "from selenium import webdriver\n",
    "from selenium.webdriver.support import expected_conditions as EC\n",
    "from selenium.webdriver.support.ui import WebDriverWait\n",
    "from selenium.webdriver.common.by import By\n",
    "from selenium.webdriver.chrome.options import Options\n",
    "from bs4 import BeautifulSoup\n",
    "from urllib.parse import urlparse, parse_qs\n",
    "import logging"
   ]
  },
  {
   "cell_type": "code",
   "execution_count": 88,
   "metadata": {},
   "outputs": [],
   "source": [
    "def replace_spaces(string):\n",
    "    if ' ' in string:\n",
    "        return string.replace(' ', '%20')\n",
    "    else:\n",
    "        return string"
   ]
  },
  {
   "cell_type": "code",
   "execution_count": 89,
   "metadata": {},
   "outputs": [],
   "source": [
    "def get_renters_info(df):\n",
    "    infos = []\n",
    "    names = df\n",
    "    \n",
    "    # Initialize the Chrome driver\n",
    "    driver = webdriver.Chrome()\n",
    "    \n",
    "    visited_urls = set()\n",
    "\n",
    "    # Loop and parse each link\n",
    "    for name in names:\n",
    "\n",
    "        if len(infos) >= 100:\n",
    "            break\n",
    "            \n",
    "        shop_query = replace_spaces(name)\n",
    "        search = f'https://www.tokopedia.com/search?st=shop&q={shop_query}'\n",
    "        driver.get(search)\n",
    "        time.sleep(1)\n",
    "        soup = BeautifulSoup(driver.page_source, 'html.parser')\n",
    "        \n",
    "        try:\n",
    "            link = soup.find('a', class_='css-1tuarat')['href']\n",
    "            # Parse the URL and get the direct URL\n",
    "            parsed_url = urlparse(str(link))\n",
    "            query_params = parse_qs(parsed_url.query)\n",
    "            direct_url = query_params.get('r', [link])[0]\n",
    "            \n",
    "            # Visit the direct URL if not already visited\n",
    "            if direct_url not in visited_urls:\n",
    "                driver.get(direct_url)\n",
    "                time.sleep(5)\n",
    "                soup = BeautifulSoup(driver.page_source, 'html.parser')\n",
    "                for _ in range(25):\n",
    "                    time.sleep(0.5)\n",
    "                    driver.execute_script(\"window.scrollBy(0,250)\")\n",
    "                \n",
    "                # Extract the necessary information\n",
    "                renter_name = soup.find('h1', class_='css-fzzhh3')\n",
    "                renter_image = soup.find('img', class_='css-46cmny eit69wn2')\n",
    "                \n",
    "                main_container = soup.find('div', class_='css-wifapm')\n",
    "                first_inner_container = main_container.find('div', class_='css-14zidxb', attrs={'data-separator': 'true'})\n",
    "                first_content = first_inner_container.find('div', class_='css-9pw5ea')\n",
    "                \n",
    "                description = first_content.find_all('p')[1].find('span').text\n",
    "\n",
    "                second_inner_container = main_container.find('div', id='shopseo')\n",
    "    \n",
    "                # Append the extracted information to the list\n",
    "                infos.append({\n",
    "                    'renter_name': renter_name.text if renter_name else 'N/A',\n",
    "                    'renter_image': renter_image['src'] if renter_image else 'N/A',\n",
    "                    'description': description if description else 'N/A',\n",
    "                    \n",
    "                })\n",
    "                time.sleep(1)\n",
    "                \n",
    "                # Mark the URL as visited\n",
    "                visited_urls.add(direct_url)\n",
    "\n",
    "            else:\n",
    "                continue\n",
    "                \n",
    "        except Exception as e:\n",
    "            continue\n",
    "\n",
    "    # Quit the driver, then return the DataFrame\n",
    "    driver.quit()\n",
    "    return pd.DataFrame(infos)"
   ]
  },
  {
   "cell_type": "code",
   "execution_count": 90,
   "metadata": {},
   "outputs": [
    {
     "data": {
      "text/html": [
       "<div>\n",
       "<style scoped>\n",
       "    .dataframe tbody tr th:only-of-type {\n",
       "        vertical-align: middle;\n",
       "    }\n",
       "\n",
       "    .dataframe tbody tr th {\n",
       "        vertical-align: top;\n",
       "    }\n",
       "\n",
       "    .dataframe thead th {\n",
       "        text-align: right;\n",
       "    }\n",
       "</style>\n",
       "<table border=\"1\" class=\"dataframe\">\n",
       "  <thead>\n",
       "    <tr style=\"text-align: right;\">\n",
       "      <th></th>\n",
       "      <th>renter_name</th>\n",
       "      <th>renter_image</th>\n",
       "      <th>description</th>\n",
       "    </tr>\n",
       "  </thead>\n",
       "  <tbody>\n",
       "    <tr>\n",
       "      <th>0</th>\n",
       "      <td>mytactical_1</td>\n",
       "      <td>https://images.tokopedia.net/img/cache/215-squ...</td>\n",
       "      <td>mengutamakan kwalitas</td>\n",
       "    </tr>\n",
       "    <tr>\n",
       "      <th>1</th>\n",
       "      <td>naondstore</td>\n",
       "      <td>https://images.tokopedia.net/img/cache/215-squ...</td>\n",
       "      <td>Selamat datang di online shop naond store! Men...</td>\n",
       "    </tr>\n",
       "    <tr>\n",
       "      <th>2</th>\n",
       "      <td>TWIC_id</td>\n",
       "      <td>https://images.tokopedia.net/img/cache/215-squ...</td>\n",
       "      <td>selamat datang di TWIC-id , \\ntoko buka jam 09...</td>\n",
       "    </tr>\n",
       "    <tr>\n",
       "      <th>3</th>\n",
       "      <td>syahr tactical</td>\n",
       "      <td>https://images.tokopedia.net/img/cache/215-squ...</td>\n",
       "      <td>Madre.qu Jakarta merupakan cabang resmi dari M...</td>\n",
       "    </tr>\n",
       "    <tr>\n",
       "      <th>4</th>\n",
       "      <td>Master tactical.id</td>\n",
       "      <td>https://images.tokopedia.net/img/cache/215-squ...</td>\n",
       "      <td>KAMI KONVEKSI TERBESAR SIAP MELAYANI ANDA BAIK...</td>\n",
       "    </tr>\n",
       "    <tr>\n",
       "      <th>...</th>\n",
       "      <td>...</td>\n",
       "      <td>...</td>\n",
       "      <td>...</td>\n",
       "    </tr>\n",
       "    <tr>\n",
       "      <th>95</th>\n",
       "      <td>solotactical</td>\n",
       "      <td>https://images.tokopedia.net/img/cache/215-squ...</td>\n",
       "      <td>#SMS/WA : 081329999010</td>\n",
       "    </tr>\n",
       "    <tr>\n",
       "      <th>96</th>\n",
       "      <td>nomi2</td>\n",
       "      <td>https://images.tokopedia.net/img/cache/215-squ...</td>\n",
       "      <td>Retail &amp; Grosir dengan harga yang memuaskan pe...</td>\n",
       "    </tr>\n",
       "    <tr>\n",
       "      <th>97</th>\n",
       "      <td>suhuks store id</td>\n",
       "      <td>https://images.tokopedia.net/img/cache/215-squ...</td>\n",
       "      <td>Hi, guys! Silahkan tanya dulu yah kalau ada ba...</td>\n",
       "    </tr>\n",
       "    <tr>\n",
       "      <th>98</th>\n",
       "      <td>Quinn Shop Indonesia</td>\n",
       "      <td>https://images.tokopedia.net/img/cache/215-squ...</td>\n",
       "      <td>Menjual segala macam keperluan Baju anak remaj...</td>\n",
       "    </tr>\n",
       "    <tr>\n",
       "      <th>99</th>\n",
       "      <td>Tajii Mall</td>\n",
       "      <td>https://images.tokopedia.net/img/cache/215-squ...</td>\n",
       "      <td>Jam Operasinal Toko: 08.00-24.00 WIB\\nWaktu Pe...</td>\n",
       "    </tr>\n",
       "  </tbody>\n",
       "</table>\n",
       "<p>100 rows × 3 columns</p>\n",
       "</div>"
      ],
      "text/plain": [
       "             renter_name                                       renter_image  \\\n",
       "0           mytactical_1  https://images.tokopedia.net/img/cache/215-squ...   \n",
       "1             naondstore  https://images.tokopedia.net/img/cache/215-squ...   \n",
       "2                TWIC_id  https://images.tokopedia.net/img/cache/215-squ...   \n",
       "3         syahr tactical  https://images.tokopedia.net/img/cache/215-squ...   \n",
       "4     Master tactical.id  https://images.tokopedia.net/img/cache/215-squ...   \n",
       "..                   ...                                                ...   \n",
       "95          solotactical  https://images.tokopedia.net/img/cache/215-squ...   \n",
       "96                 nomi2  https://images.tokopedia.net/img/cache/215-squ...   \n",
       "97       suhuks store id  https://images.tokopedia.net/img/cache/215-squ...   \n",
       "98  Quinn Shop Indonesia  https://images.tokopedia.net/img/cache/215-squ...   \n",
       "99            Tajii Mall  https://images.tokopedia.net/img/cache/215-squ...   \n",
       "\n",
       "                                          description  \n",
       "0                               mengutamakan kwalitas  \n",
       "1   Selamat datang di online shop naond store! Men...  \n",
       "2   selamat datang di TWIC-id , \\ntoko buka jam 09...  \n",
       "3   Madre.qu Jakarta merupakan cabang resmi dari M...  \n",
       "4   KAMI KONVEKSI TERBESAR SIAP MELAYANI ANDA BAIK...  \n",
       "..                                                ...  \n",
       "95                             #SMS/WA : 081329999010  \n",
       "96  Retail & Grosir dengan harga yang memuaskan pe...  \n",
       "97  Hi, guys! Silahkan tanya dulu yah kalau ada ba...  \n",
       "98  Menjual segala macam keperluan Baju anak remaj...  \n",
       "99  Jam Operasinal Toko: 08.00-24.00 WIB\\nWaktu Pe...  \n",
       "\n",
       "[100 rows x 3 columns]"
      ]
     },
     "execution_count": 90,
     "metadata": {},
     "output_type": "execute_result"
    }
   ],
   "source": [
    "renters_info = get_renters_info(renter_df)\n",
    "renters_info"
   ]
  },
  {
   "cell_type": "code",
   "execution_count": 99,
   "metadata": {},
   "outputs": [
    {
     "name": "stdout",
     "output_type": "stream",
     "text": [
      "<class 'pandas.core.frame.DataFrame'>\n",
      "RangeIndex: 100 entries, 0 to 99\n",
      "Data columns (total 3 columns):\n",
      " #   Column        Non-Null Count  Dtype \n",
      "---  ------        --------------  ----- \n",
      " 0   renter_name   100 non-null    object\n",
      " 1   renter_image  100 non-null    object\n",
      " 2   description   100 non-null    object\n",
      "dtypes: object(3)\n",
      "memory usage: 2.5+ KB\n"
     ]
    }
   ],
   "source": [
    "renters_info = renters_info.drop_duplicates()\n",
    "renters_info = renters_info.dropna()\n",
    "renters_info = renters_info.reset_index(drop=True)\n",
    "renters_info.info()"
   ]
  },
  {
   "cell_type": "code",
   "execution_count": 102,
   "metadata": {},
   "outputs": [],
   "source": [
    "renters_info.to_csv('./data/renters_info.csv', index=False)"
   ]
  },
  {
   "cell_type": "code",
   "execution_count": null,
   "metadata": {},
   "outputs": [],
   "source": []
  }
 ],
 "metadata": {
  "kernelspec": {
   "display_name": "Python 3",
   "language": "python",
   "name": "python3"
  },
  "language_info": {
   "codemirror_mode": {
    "name": "ipython",
    "version": 3
   },
   "file_extension": ".py",
   "mimetype": "text/x-python",
   "name": "python",
   "nbconvert_exporter": "python",
   "pygments_lexer": "ipython3",
   "version": "3.8.0"
  }
 },
 "nbformat": 4,
 "nbformat_minor": 2
}
