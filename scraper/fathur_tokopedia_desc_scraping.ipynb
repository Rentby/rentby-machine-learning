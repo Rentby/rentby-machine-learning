{
 "cells": [
  {
   "cell_type": "code",
   "execution_count": 1,
   "id": "f3c6a7ae-28f4-4864-bace-2853a1bc212f",
   "metadata": {},
   "outputs": [],
   "source": [
    "import time\n",
    "from selenium import webdriver\n",
    "from selenium.webdriver.support import expected_conditions as EC\n",
    "from selenium.webdriver.support.ui import WebDriverWait\n",
    "from selenium.webdriver.common.by import By\n",
    "from selenium.webdriver.chrome.options import Options\n",
    "from bs4 import BeautifulSoup\n",
    "import pandas as pd\n",
    "import os\n",
    "from urllib.parse import urlparse, parse_qs\n",
    "import logging"
   ]
  },
  {
   "cell_type": "code",
   "execution_count": 2,
   "id": "143dcf0a-cb6a-4d4f-97e3-c1539bd93b43",
   "metadata": {},
   "outputs": [
    {
     "data": {
      "text/plain": [
       "['celana_tactical.csv',\n",
       " 'gaiter.csv',\n",
       " 'kaos_kaki.csv',\n",
       " 'kemeja_tactical.csv',\n",
       " 'portable_kitchenware.csv',\n",
       " 'sarung_tangan.csv',\n",
       " 'sepatu_mendaki.csv',\n",
       " 'sleeping_bag.csv',\n",
       " 'survival_kit.csv',\n",
       " 'tenda.csv',\n",
       " 'topi_gunung.csv',\n",
       " 'trekking_pole.csv']"
      ]
     },
     "execution_count": 2,
     "metadata": {},
     "output_type": "execute_result"
    }
   ],
   "source": [
    "hiking_dir = '../data/fathur_scraped/hiking/'\n",
    "cosplay_dir = '../data/fathur_scraped/cosplay/'\n",
    "os.listdir(hiking_dir)"
   ]
  },
  {
   "cell_type": "code",
   "execution_count": 3,
   "id": "d0271313-c42a-4f53-9450-80d0e503ab9d",
   "metadata": {},
   "outputs": [
    {
     "data": {
      "text/plain": [
       "['aksesoris_cosplay.csv',\n",
       " 'kostum.csv',\n",
       " 'sepatu_cosplay.csv',\n",
       " 'topeng_cosplay.csv',\n",
       " 'wig.csv']"
      ]
     },
     "execution_count": 3,
     "metadata": {},
     "output_type": "execute_result"
    }
   ],
   "source": [
    "os.listdir(cosplay_dir)"
   ]
  },
  {
   "cell_type": "code",
   "execution_count": 4,
   "id": "60eacfae",
   "metadata": {},
   "outputs": [],
   "source": [
    "def csv_to_df(dir, file):\n",
    "    return pd.read_csv(os.path.join(dir, file))"
   ]
  },
  {
   "cell_type": "code",
   "execution_count": 5,
   "id": "67599c21",
   "metadata": {},
   "outputs": [],
   "source": [
    "# Hiking\n",
    "celana_tactical_df = csv_to_df(hiking_dir, 'celana_tactical.csv')\n",
    "gaiter_df = csv_to_df(hiking_dir, 'gaiter.csv')\n",
    "kaos_kaki_df = csv_to_df(hiking_dir, 'kaos_kaki.csv')\n",
    "kemeja_tactical_df = csv_to_df(hiking_dir, 'kemeja_tactical.csv')\n",
    "portable_kitchenware_df = csv_to_df(hiking_dir, 'portable_kitchenware.csv')\n",
    "sarung_tangan_df = csv_to_df(hiking_dir, 'sarung_tangan.csv')\n",
    "sepatu_mendaki_df = csv_to_df(hiking_dir, 'sepatu_mendaki.csv')\n",
    "sleeping_bag_df = csv_to_df(hiking_dir, 'sleeping_bag.csv')\n",
    "survival_kit_df = csv_to_df(hiking_dir, 'survival_kit.csv')\n",
    "tenda_df = csv_to_df(hiking_dir, 'tenda.csv')\n",
    "topi_gunung_df = csv_to_df(hiking_dir, 'topi_gunung.csv')\n",
    "trekking_pole_df = csv_to_df(hiking_dir, 'trekking_pole.csv')\n",
    "\n",
    "# Cosplay\n",
    "aksesoris_cosplay_df = csv_to_df(cosplay_dir, 'aksesoris_cosplay.csv')\n",
    "kostum_df = csv_to_df(cosplay_dir, 'kostum.csv')\n",
    "sepatu_cosplay_df = csv_to_df(cosplay_dir, 'sepatu_cosplay.csv')\n",
    "topeng_cosplay_df = csv_to_df(cosplay_dir, 'topeng_cosplay.csv')\n",
    "wig_df = csv_to_df(cosplay_dir, 'wig.csv')"
   ]
  },
  {
   "cell_type": "code",
   "execution_count": 6,
   "id": "93496131-126f-41c7-a129-af51fc347ef1",
   "metadata": {},
   "outputs": [],
   "source": [
    "def get_desc(df):\n",
    "    descs = []\n",
    "    urls = df['link']  # Limiting to process only the first 100 links\n",
    "    \n",
    "    # Initialize the Chrome driver\n",
    "    driver = webdriver.Chrome()\n",
    "    \n",
    "    visited_urls = set()\n",
    "\n",
    "    # Loop and parse each link\n",
    "    for link in urls:\n",
    "        try:\n",
    "            # Parse the URL and get the direct URL\n",
    "            parsed_url = urlparse(str(link))\n",
    "            query_params = parse_qs(parsed_url.query)\n",
    "            direct_url = query_params.get('r', [link])[0]\n",
    "            \n",
    "            # Visit the direct URL if not already visited\n",
    "            if direct_url not in visited_urls:\n",
    "                driver.get(direct_url)\n",
    "                time.sleep(2)\n",
    "                soup = BeautifulSoup(driver.page_source, 'html.parser')\n",
    "                \n",
    "                # Extract the necessary information\n",
    "                product_name = soup.find('h1', class_='css-ga6qsf')\n",
    "                rent_price = soup.find('div', class_='price')\n",
    "                seller = soup.find('h2', class_='css-1wdzqxj-unf-heading')\n",
    "                img_url = soup.find('img', class_='css-1c345mg')\n",
    "                desc = soup.find('div', attrs={'data-testid': 'lblPDPDescriptionProduk'})\n",
    "    \n",
    "                # Append the extracted information to the list\n",
    "                descs.append({\n",
    "                    'product_name': product_name.text if product_name else 'N/A',\n",
    "                    'rent_price': rent_price.text if rent_price else 'N/A',\n",
    "                    'seller': seller.text if seller else 'N/A',\n",
    "                    'img_url': img_url['src'] if img_url else 'N/A',\n",
    "                    'desc': desc.get_text(separator=' ') if desc else 'N/A',\n",
    "                    'link': link\n",
    "                })\n",
    "                time.sleep(1)\n",
    "                \n",
    "                # Mark the URL as visited\n",
    "                visited_urls.add(direct_url)\n",
    "\n",
    "            else:\n",
    "                continue\n",
    "                \n",
    "        except Exception as e:\n",
    "            continue\n",
    "\n",
    "    # Quit the driver, then return the DataFrame\n",
    "    driver.quit()\n",
    "    return pd.DataFrame(descs)\n"
   ]
  },
  {
   "cell_type": "code",
   "execution_count": 7,
   "id": "8611c606-d8cc-4497-a5e9-d3c436699edc",
   "metadata": {},
   "outputs": [],
   "source": [
    "# Hiking\n",
    "tenda_desc_df = get_desc(tenda_df)\n",
    "kemeja_tactical_desc_df = get_desc(kemeja_tactical_df)\n",
    "celana_tactical_desc_df = get_desc(celana_tactical_df)\n",
    "sepatu_mendaki_desc_df = get_desc(sepatu_mendaki_df)\n",
    "kaos_kaki_desc_df = get_desc(kaos_kaki_df)\n",
    "sarung_tangan_desc_df = get_desc(sarung_tangan_df)\n",
    "topi_gunung_desc_df = get_desc(topi_gunung_df)\n",
    "trekking_pole_desc_df = get_desc(trekking_pole_df)\n",
    "sleeping_bag_desc_df = get_desc(sleeping_bag_df)\n",
    "gaiter_desc_df = get_desc(gaiter_df)\n",
    "portable_kitchenware_desc_df = get_desc(portable_kitchenware_df)\n",
    "survival_kit_desc_df = get_desc(survival_kit_df)\n",
    "\n",
    "# Cosplay\n",
    "topeng_cosplay_desc_df = get_desc(topeng_cosplay_df)\n",
    "kostum_desc_df = get_desc(kostum_df)\n",
    "wig_desc_df = get_desc(wig_df)\n",
    "sepatu_cosplay_desc_df = get_desc(sepatu_cosplay_df)\n",
    "aksesoris_cosplay_desc_df = get_desc(aksesoris_cosplay_df)"
   ]
  },
  {
   "cell_type": "code",
   "execution_count": 8,
   "id": "80106171-51ac-47ce-8f6f-966f76d73c56",
   "metadata": {},
   "outputs": [],
   "source": [
    "hiking_desc_dfs = {\n",
    "    'tenda_desc': tenda_desc_df,\n",
    "    'kemeja_tactical_desc': kemeja_tactical_desc_df,\n",
    "    'celana_tactical_desc': celana_tactical_desc_df,\n",
    "    'sepatu_mendaki_desc': sepatu_mendaki_desc_df,\n",
    "    'kaos_kaki_desc': kaos_kaki_desc_df,\n",
    "    'sarung_tangan_desc': sarung_tangan_desc_df,\n",
    "    'topi_gunung_desc': topi_gunung_desc_df,\n",
    "    'trekking_pole_desc': trekking_pole_desc_df,\n",
    "    'sleeping_bag_desc': sleeping_bag_desc_df,\n",
    "    'gaiter_desc': gaiter_desc_df,\n",
    "    'portable_kitchenware_desc': portable_kitchenware_desc_df,\n",
    "    'survival_kit_desc': survival_kit_desc_df,\n",
    "}\n",
    "\n",
    "cosplay_desc_dfs = {\n",
    "    'topeng_cosplay_desc': topeng_cosplay_desc_df,\n",
    "    'kostum_desc': kostum_desc_df,\n",
    "    'wig_desc': wig_desc_df,\n",
    "    'sepatu_cosplay_desc': sepatu_cosplay_desc_df,\n",
    "    'aksesoris_cosplay_desc': aksesoris_cosplay_desc_df,\n",
    "}"
   ]
  },
  {
   "cell_type": "code",
   "execution_count": 9,
   "id": "84cc7034-5311-411b-8927-c5f4b045e0ef",
   "metadata": {},
   "outputs": [],
   "source": [
    "hiking_desc_dir = 'new_scraped_desc/hiking/'\n",
    "cosplay_desc_dir = 'new_scraped_desc/cosplay/'\n",
    "os.makedirs(hiking_desc_dir, exist_ok=True)\n",
    "os.makedirs(cosplay_desc_dir, exist_ok=True)"
   ]
  },
  {
   "cell_type": "code",
   "execution_count": 10,
   "id": "a2f8a920-9fa4-446f-850a-bc0bf63dec80",
   "metadata": {},
   "outputs": [],
   "source": [
    "def save_df_to_csv(df_dict, category_dir):\n",
    "    for df_name, df in df_dict.items():\n",
    "        file_name = df_name + '.csv'\n",
    "        df.to_csv(os.path.join(category_dir, file_name), index=False)"
   ]
  },
  {
   "cell_type": "code",
   "execution_count": 11,
   "id": "d17ed48e-cf4f-48bd-90b1-72e5a8ec22d4",
   "metadata": {},
   "outputs": [],
   "source": [
    "# Save hiking DataFrames\n",
    "save_df_to_csv(hiking_desc_dfs, hiking_desc_dir)\n",
    "\n",
    "# Save cosplay DataFrames\n",
    "save_df_to_csv(cosplay_desc_dfs, cosplay_desc_dir)"
   ]
  },
  {
   "cell_type": "code",
   "execution_count": null,
   "id": "4bc1e9ad-85f9-4ba5-be9d-2491bc22d275",
   "metadata": {},
   "outputs": [],
   "source": []
  }
 ],
 "metadata": {
  "kernelspec": {
   "display_name": "Python 3 (ipykernel)",
   "language": "python",
   "name": "python3"
  },
  "language_info": {
   "codemirror_mode": {
    "name": "ipython",
    "version": 3
   },
   "file_extension": ".py",
   "mimetype": "text/x-python",
   "name": "python",
   "nbconvert_exporter": "python",
   "pygments_lexer": "ipython3",
   "version": "3.11.9"
  }
 },
 "nbformat": 4,
 "nbformat_minor": 5
}
