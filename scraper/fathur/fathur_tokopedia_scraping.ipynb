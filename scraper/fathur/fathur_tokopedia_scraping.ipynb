{
 "cells": [
  {
   "cell_type": "code",
   "execution_count": null,
   "id": "f3c6a7ae-28f4-4864-bace-2853a1bc212f",
   "metadata": {},
   "outputs": [],
   "source": [
    "import time\n",
    "from selenium import webdriver\n",
    "from selenium.webdriver.support import expected_conditions as EC\n",
    "from selenium.webdriver.support.ui import WebDriverWait\n",
    "from selenium.webdriver.common.by import By\n",
    "from bs4 import BeautifulSoup\n",
    "import pandas as pd\n",
    "from urllib.parse import urlparse, parse_qs"
   ]
  },
  {
   "cell_type": "code",
   "execution_count": 2,
   "id": "7a454b50-83ef-4803-931b-b81cc2bc7387",
   "metadata": {},
   "outputs": [],
   "source": [
    "# Defining a function to scrap data from Tokopedia search result page\n",
    "def get_tokopedia_data(datas, url, driver):\n",
    "\n",
    "        # Use driver to access the page, then locate it's elements when it was loaded to finish\n",
    "        driver.get(url)\n",
    "        WebDriverWait(driver, 10).until(EC.presence_of_element_located((By.CSS_SELECTOR, \"#zeus-root\")))\n",
    "        time.sleep(2)\n",
    "        soup = BeautifulSoup(driver.page_source, 'html.parser')\n",
    "        for _ in range(25):\n",
    "            time.sleep(0.5)\n",
    "            driver.execute_script(\"window.scrollBy(0,250)\")\n",
    "\n",
    "        # Find all item cards on page, and scrap name, link, price, and image url on each\n",
    "        elements = soup.findAll('div', class_='pcv3__container css-1izdl9e')\n",
    "        for element in elements:\n",
    "            name = element.find('div', class_='prd_link-product-name css-3um8ox')\n",
    "            link = element.find('a', class_='pcv3__info-content css-gwkf0u')\n",
    "            harga = element.find('div', class_='prd_link-product-price css-h66vau')\n",
    "            gambar = element.find('img', class_='css-1q90pod')\n",
    "\n",
    "            # Append array with scrapped data\n",
    "            if name and link and harga and gambar:\n",
    "                datas.append({\n",
    "                    'name': name.text,\n",
    "                    'link': link['href'],\n",
    "                    'price': harga.text,\n",
    "                    'img': gambar['src']\n",
    "                })"
   ]
  },
  {
   "cell_type": "code",
   "execution_count": 3,
   "id": "e459c270-f7db-4952-9d08-c389c411543d",
   "metadata": {},
   "outputs": [],
   "source": [
    "def get_dataframe(query, pages):\n",
    "    # Initialize driver, array, and assign number of pages\n",
    "    driver = webdriver.Chrome()\n",
    "    datas = []\n",
    "    \n",
    "    # Use pages as looping parameter for scraping\n",
    "    for i in range(pages):\n",
    "        url = f'https://www.tokopedia.com/search?navsource=&page={i + 1}&q={query}&srp_component_id=02.01.00.00&srp_page_id=&srp_page_title='\n",
    "        get_tokopedia_data(datas, url, driver)\n",
    "    \n",
    "    # Quit the driver after scraping, turn array into DataFrame, delete array, then show DataFrame\n",
    "    driver.quit()\n",
    "    df = pd.DataFrame(datas)\n",
    "    del(datas)\n",
    "    return df"
   ]
  },
  {
   "cell_type": "code",
   "execution_count": 4,
   "id": "97e95dd2-e482-4216-a64a-10a9ab4d226b",
   "metadata": {},
   "outputs": [],
   "source": [
    "# Hiking\n",
    "tenda_df = get_dataframe('tenda', 100)\n",
    "kemeja_tactical_df = get_dataframe('kemeja%20tactical', 100)\n",
    "celana_tactical_df = get_dataframe('celana%20tactical', 100)\n",
    "sepatu_mendaki_df = get_dataframe('sepatu%20mendaki', 100)\n",
    "kaos_kaki_df = get_dataframe('kaos%20kaki', 100)\n",
    "sarung_tangan_df = get_dataframe('sarung%20tangan', 100)\n",
    "topi_gunung_df = get_dataframe('topi%20gunung', 100)\n",
    "trekking_pole_df = get_dataframe('trekking%20pole', 100)\n",
    "sleeping_bag_df = get_dataframe('sleeping%20bag', 100)\n",
    "gaiter_df = get_dataframe('gaiter', 100)\n",
    "portable_kitchenware_df = get_dataframe('alat%20masak%20portable', 100)\n",
    "survival_kit_df = get_dataframe('survival%20kit', 100)\n",
    "\n",
    "# Cosplay\n",
    "topeng_cosplay_df = get_dataframe('cosplay%20mask', 100)\n",
    "kostum_df = get_dataframe('costume', 100)\n",
    "wig_df = get_dataframe('wig', 100)\n",
    "sepatu_cosplay_df = get_dataframe('cosplay%20shoes', 100)\n",
    "aksesoris_cosplay_df = get_dataframe('aksesoris%20cosplay', 100)"
   ]
  },
  {
   "cell_type": "code",
   "execution_count": 8,
   "id": "143dcf0a-cb6a-4d4f-97e3-c1539bd93b43",
   "metadata": {},
   "outputs": [],
   "source": [
    "import os\n",
    "hiking_dir = '../data/fathur_scraped/hiking/'\n",
    "cosplay_dir = '../data/fathur_scraped/cosplay/'\n",
    "os.makedirs(hiking_dir, exist_ok=True)\n",
    "os.makedirs(cosplay_dir, exist_ok=True)"
   ]
  },
  {
   "cell_type": "code",
   "execution_count": 10,
   "id": "60eacfae",
   "metadata": {},
   "outputs": [],
   "source": [
    "def save_df_to_csv(df_dict, category_dir):\n",
    "    for df_name, df in df_dict.items():\n",
    "        file_name = df_name + '.csv'\n",
    "        df.to_csv(os.path.join(category_dir, file_name), index=False)"
   ]
  },
  {
   "cell_type": "code",
   "execution_count": 11,
   "id": "c35d9743-380d-46c6-bfac-1a1dad1e9e09",
   "metadata": {},
   "outputs": [],
   "source": [
    "hiking_dfs = {\n",
    "    'tenda': tenda_df,\n",
    "    'kemeja_tactical': kemeja_tactical_df,\n",
    "    'celana_tactical': celana_tactical_df,\n",
    "    'sepatu_mendaki': sepatu_mendaki_df,\n",
    "    'kaos_kaki': kaos_kaki_df,\n",
    "    'sarung_tangan': sarung_tangan_df,\n",
    "    'topi_gunung': topi_gunung_df,\n",
    "    'trekking_pole': trekking_pole_df,\n",
    "    'sleeping_bag': sleeping_bag_df,\n",
    "    'gaiter': gaiter_df,\n",
    "    'portable_kitchenware': portable_kitchenware_df,\n",
    "    'survival_kit': survival_kit_df,\n",
    "}\n",
    "\n",
    "cosplay_dfs = {\n",
    "    'topeng_cosplay': topeng_cosplay_df,\n",
    "    'kostum': kostum_df,\n",
    "    'wig': wig_df,\n",
    "    'sepatu_cosplay': sepatu_cosplay_df,\n",
    "    'aksesoris_cosplay': aksesoris_cosplay_df,\n",
    "}"
   ]
  },
  {
   "cell_type": "code",
   "execution_count": 12,
   "id": "8cb390e8-67f2-4ab5-897d-84b7c3f54cce",
   "metadata": {},
   "outputs": [],
   "source": [
    "# Save hiking DataFrames\n",
    "save_df_to_csv(hiking_dfs, hiking_dir)\n",
    "\n",
    "# Save cosplay DataFrames\n",
    "save_df_to_csv(cosplay_dfs, cosplay_dir)"
   ]
  },
  {
   "cell_type": "code",
   "execution_count": null,
   "id": "80106171-51ac-47ce-8f6f-966f76d73c56",
   "metadata": {},
   "outputs": [],
   "source": []
  }
 ],
 "metadata": {
  "kernelspec": {
   "display_name": "Python 3 (ipykernel)",
   "language": "python",
   "name": "python3"
  },
  "language_info": {
   "codemirror_mode": {
    "name": "ipython",
    "version": 3
   },
   "file_extension": ".py",
   "mimetype": "text/x-python",
   "name": "python",
   "nbconvert_exporter": "python",
   "pygments_lexer": "ipython3",
   "version": "3.11.9"
  }
 },
 "nbformat": 4,
 "nbformat_minor": 5
}
