{
 "cells": [
  {
   "cell_type": "markdown",
   "metadata": {},
   "source": [
    "### Import libraries"
   ]
  },
  {
   "cell_type": "code",
   "execution_count": null,
   "metadata": {},
   "outputs": [],
   "source": [
    "import time\n",
    "from selenium import webdriver\n",
    "from selenium.webdriver.support import expected_conditions as EC\n",
    "from selenium.webdriver.support.ui import WebDriverWait\n",
    "from selenium.webdriver.common.by import By\n",
    "from bs4 import BeautifulSoup\n",
    "import pandas as pd\n",
    "import os\n",
    "from urllib.parse import urlparse, parse_qs"
   ]
  },
  {
   "cell_type": "markdown",
   "metadata": {},
   "source": [
    "### Read files directories"
   ]
  },
  {
   "cell_type": "code",
   "execution_count": null,
   "metadata": {},
   "outputs": [],
   "source": [
    "hiking_dir = 'scraped/hiking/'\n",
    "cosplay_dir = 'scraped/cosplay/'\n",
    "os.listdir(hiking_dir)"
   ]
  },
  {
   "cell_type": "code",
   "execution_count": null,
   "metadata": {},
   "outputs": [],
   "source": [
    "os.listdir(cosplay_dir)"
   ]
  },
  {
   "cell_type": "code",
   "execution_count": null,
   "metadata": {},
   "outputs": [],
   "source": [
    "def csv_to_df(dir, file):\n",
    "    return pd.read_csv(os.path.join(dir, file))"
   ]
  },
  {
   "cell_type": "code",
   "execution_count": null,
   "metadata": {},
   "outputs": [],
   "source": [
    "# Hiking\n",
    "kotak_p3k_df = csv_to_df(hiking_dir, 'kotak_p3k.csv')\n",
    "matras_df = csv_to_df(hiking_dir, 'matras.csv')\n",
    "pisau_lipat_df = csv_to_df(hiking_dir, 'pisau_lipat.csv')\n",
    "thermal_blanket_df = csv_to_df(hiking_dir, 'thermal_blanket.csv')\n",
    "headlamp_df = csv_to_df(hiking_dir, 'headlamp.csv')\n",
    "\n",
    "# Cosplay\n",
    "cosplay_df = csv_to_df(cosplay_dir, 'cosplay.csv')\n",
    "kostum_cosplay_df = csv_to_df(cosplay_dir, 'kostum_cosplay.csv')\n",
    "pakaian_cosplay_df = csv_to_df(cosplay_dir, 'pakaian_cosplay.csv')\n",
    "topeng_cosplay_df = csv_to_df(cosplay_dir, 'topeng_cosplay.csv')\n",
    "aksesoris_cosplay_df = csv_to_df(cosplay_dir, 'aksesoris_cosplay.csv')"
   ]
  },
  {
   "cell_type": "markdown",
   "metadata": {},
   "source": [
    "### Get products seller and description by link"
   ]
  },
  {
   "cell_type": "code",
   "execution_count": null,
   "metadata": {},
   "outputs": [],
   "source": [
    "def get_descs_renters(df):\n",
    "    descs = []\n",
    "    renters =[]\n",
    "    urls = df['link']\n",
    "    driver = webdriver.Chrome()\n",
    "\n",
    "    # Loop and parse each link\n",
    "    for link in urls:\n",
    "        parsed_url = urlparse(str(link))\n",
    "        query_params = parse_qs(parsed_url.query)\n",
    "        direct_url = query_params.get('r', [None])[0]\n",
    "\n",
    "        # Visit parsed link, obtain description, then append to array\n",
    "        try:    \n",
    "            driver.get(str(direct_url))\n",
    "            time.sleep(2)\n",
    "            \n",
    "            soup = BeautifulSoup(driver.page_source, 'html.parser')\n",
    "            time.sleep(1)\n",
    "            renter = soup.find('h2', class_ = 'css-1wdzqxj-unf-heading e1qvo2ff2')\n",
    "            desc = soup.select_one('div[data-testid=\"lblPDPDescriptionProduk\"]').get_text(separator=' ')\n",
    "\n",
    "            descs.append({\n",
    "                'renters': renter.text,\n",
    "                'description': desc\n",
    "            })\n",
    "            \n",
    "        except Exception as e:\n",
    "            continue\n",
    "\n",
    "    # Quit the driver, then return dataframe\n",
    "    driver.quit()\n",
    "    return pd.DataFrame(descs)"
   ]
  },
  {
   "cell_type": "code",
   "execution_count": null,
   "metadata": {},
   "outputs": [],
   "source": [
    "# Hiking\n",
    "headlamp_detail_df = get_descs_renters(headlamp_df)\n",
    "thermal_blanket_detail_df = get_descs_renters(thermal_blanket_df)\n",
    "pisau_lipat_detail_df = get_descs_renters(pisau_lipat_df)\n",
    "matras_detail_df = get_descs_renters(matras_df)\n",
    "kotak_p3k_detail_df = get_descs_renters(kotak_p3k_df)\n",
    "\n",
    "# Cosplay\n",
    "cosplay_detail_df = get_descs_renters(cosplay_df)\n",
    "kostum_cosplay_detail_df = get_descs_renters(kostum_cosplay_df)\n",
    "pakaian_cosplay_detail_df = get_descs_renters(pakaian_cosplay_df)\n",
    "topeng_cosplay_detail_df = get_descs_renters(topeng_cosplay_df)\n",
    "aksesoris_cosplay_detail_df = get_descs_renters(aksesoris_cosplay_df)\n"
   ]
  },
  {
   "cell_type": "code",
   "execution_count": null,
   "metadata": {},
   "outputs": [],
   "source": [
    "hiking_detail_dfs = {\n",
    "    'headlamp_detail': headlamp_detail_df,\n",
    "    'thermal_blanket_detail': thermal_blanket_detail_df,\n",
    "    'pisau_lipat_detail': pisau_lipat_detail_df,\n",
    "    'matras_detail': matras_detail_df,\n",
    "    'kotak_p3k_detail': kotak_p3k_detail_df,\n",
    "}\n",
    "cosplay_detail_dfs = {\n",
    "    'cosplay_detail': cosplay_detail_df,\n",
    "    'kostum_cosplay_detail': kostum_cosplay_detail_df,\n",
    "    'pakaian_cosplay_detail': pakaian_cosplay_detail_df,\n",
    "    'topeng_cosplay_detail': topeng_cosplay_detail_df,\n",
    "    'aksesoris_cosplay_detail': aksesoris_cosplay_detail_df,\n",
    "}"
   ]
  },
  {
   "cell_type": "code",
   "execution_count": null,
   "metadata": {},
   "outputs": [],
   "source": [
    "hiking_detail_dir = 'scraped_desc/hiking/'\n",
    "cosplay_detail_dir = 'scraped_desc/cosplay/'\n",
    "os.makedirs(hiking_detail_dir, exist_ok=True)\n",
    "os.makedirs(cosplay_detail_dir, exist_ok=True)"
   ]
  },
  {
   "cell_type": "markdown",
   "metadata": {},
   "source": [
    "### Saved dataset"
   ]
  },
  {
   "cell_type": "code",
   "execution_count": null,
   "metadata": {},
   "outputs": [],
   "source": [
    "def save_df_to_csv(df_dict, category_dir):\n",
    "    for df_name, df in df_dict.items():\n",
    "        file_name = df_name + '.csv'\n",
    "        df.to_csv(os.path.join(category_dir, file_name), index=False)"
   ]
  },
  {
   "cell_type": "code",
   "execution_count": null,
   "metadata": {},
   "outputs": [],
   "source": [
    "# Save hiking DataFrames\n",
    "save_df_to_csv(hiking_detail_dfs, hiking_detail_dir)\n",
    "\n",
    "# Save cosplay DataFrames\n",
    "save_df_to_csv(cosplay_detail_dfs, cosplay_detail_dir)"
   ]
  }
 ],
 "metadata": {
  "language_info": {
   "name": "python"
  }
 },
 "nbformat": 4,
 "nbformat_minor": 2
}
